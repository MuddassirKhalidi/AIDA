{
 "cells": [
  {
   "cell_type": "code",
   "execution_count": 1,
   "id": "e13bf48a-50c0-4dd3-a17a-f428862c38dc",
   "metadata": {},
   "outputs": [
    {
     "name": "stdout",
     "output_type": "stream",
     "text": [
      "Note: you may need to restart the kernel to use updated packages.\n",
      "Collecting pytorch\n",
      "  Downloading pytorch-1.0.2.tar.gz (689 bytes)\n",
      "  Preparing metadata (setup.py): started\n",
      "  Preparing metadata (setup.py): finished with status 'done'\n",
      "Building wheels for collected packages: pytorch\n",
      "  Building wheel for pytorch (setup.py): started\n",
      "  Building wheel for pytorch (setup.py): finished with status 'error'\n",
      "  Running setup.py clean for pytorch\n",
      "Failed to build pytorch\n"
     ]
    },
    {
     "name": "stderr",
     "output_type": "stream",
     "text": [
      "  error: subprocess-exited-with-error\n",
      "  \n",
      "  python setup.py bdist_wheel did not run successfully.\n",
      "  exit code: 1\n",
      "  \n",
      "  [6 lines of output]\n",
      "  Traceback (most recent call last):\n",
      "    File \"<string>\", line 2, in <module>\n",
      "    File \"<pip-setuptools-caller>\", line 34, in <module>\n",
      "    File \"C:\\Users\\Saeed\\AppData\\Local\\Temp\\pip-install-4s_syrys\\pytorch_0c34e517d64f4dee93076fd4ae369ea2\\setup.py\", line 15, in <module>\n",
      "      raise Exception(message)\n",
      "  Exception: You tried to install \"pytorch\". The package named for PyTorch is \"torch\"\n",
      "  [end of output]\n",
      "  \n",
      "  note: This error originates from a subprocess, and is likely not a problem with pip.\n",
      "  ERROR: Failed building wheel for pytorch\n",
      "ERROR: ERROR: Failed to build installable wheels for some pyproject.toml based projects (pytorch)\n"
     ]
    }
   ],
   "source": [
    "pip install pytorch"
   ]
  },
  {
   "cell_type": "code",
   "execution_count": 3,
   "id": "7d2b8531-0257-4d5d-a3d6-98e72d584c0e",
   "metadata": {},
   "outputs": [
    {
     "name": "stdout",
     "output_type": "stream",
     "text": [
      "Requirement already satisfied: tiktoken in c:\\users\\saeed\\anaconda3\\lib\\site-packages (0.7.0)\n",
      "Requirement already satisfied: regex>=2022.1.18 in c:\\users\\saeed\\appdata\\roaming\\python\\python311\\site-packages (from tiktoken) (2024.5.15)\n",
      "Requirement already satisfied: requests>=2.26.0 in c:\\users\\saeed\\appdata\\roaming\\python\\python311\\site-packages (from tiktoken) (2.32.3)\n",
      "Requirement already satisfied: charset-normalizer<4,>=2 in c:\\users\\saeed\\appdata\\roaming\\python\\python311\\site-packages (from requests>=2.26.0->tiktoken) (3.3.2)\n",
      "Requirement already satisfied: idna<4,>=2.5 in c:\\users\\saeed\\appdata\\roaming\\python\\python311\\site-packages (from requests>=2.26.0->tiktoken) (3.7)\n",
      "Requirement already satisfied: urllib3<3,>=1.21.1 in c:\\users\\saeed\\anaconda3\\lib\\site-packages (from requests>=2.26.0->tiktoken) (2.2.2)\n",
      "Requirement already satisfied: certifi>=2017.4.17 in c:\\users\\saeed\\appdata\\roaming\\python\\python311\\site-packages (from requests>=2.26.0->tiktoken) (2024.7.4)\n",
      "Note: you may need to restart the kernel to use updated packages.\n"
     ]
    }
   ],
   "source": [
    "pip install tiktoken"
   ]
  },
  {
   "cell_type": "code",
   "execution_count": 5,
   "id": "b0cb326b-58e6-4dae-85cd-801458fd9f0e",
   "metadata": {},
   "outputs": [
    {
     "name": "stdout",
     "output_type": "stream",
     "text": [
      "Collecting openai-whisperNote: you may need to restart the kernel to use updated packages.\n",
      "\n",
      "  Downloading openai-whisper-20231117.tar.gz (798 kB)\n",
      "     ---------------------------------------- 0.0/798.6 kB ? eta -:--:--\n",
      "     - -------------------------------------- 30.7/798.6 kB ? eta -:--:--\n",
      "     -- ---------------------------------- 61.4/798.6 kB 656.4 kB/s eta 0:00:02\n",
      "     ---- ------------------------------- 102.4/798.6 kB 737.3 kB/s eta 0:00:01\n",
      "     ------ ----------------------------- 153.6/798.6 kB 838.4 kB/s eta 0:00:01\n",
      "     --------- -------------------------- 204.8/798.6 kB 892.5 kB/s eta 0:00:01\n",
      "     ------------- ------------------------ 286.7/798.6 kB 1.0 MB/s eta 0:00:01\n",
      "     ------------------ ------------------- 389.1/798.6 kB 1.2 MB/s eta 0:00:01\n",
      "     --------------------------- ---------- 583.7/798.6 kB 1.5 MB/s eta 0:00:01\n",
      "     -------------------------------- ----- 675.8/798.6 kB 1.6 MB/s eta 0:00:01\n",
      "     -------------------------------------- 798.6/798.6 kB 1.7 MB/s eta 0:00:00\n",
      "  Installing build dependencies: started\n",
      "  Installing build dependencies: finished with status 'done'\n",
      "  Getting requirements to build wheel: started\n",
      "  Getting requirements to build wheel: finished with status 'done'\n",
      "  Preparing metadata (pyproject.toml): started\n",
      "  Preparing metadata (pyproject.toml): finished with status 'done'\n",
      "Requirement already satisfied: numba in c:\\users\\saeed\\anaconda3\\lib\\site-packages (from openai-whisper) (0.57.1)\n",
      "Requirement already satisfied: numpy in c:\\users\\saeed\\anaconda3\\lib\\site-packages (from openai-whisper) (1.24.3)\n",
      "Requirement already satisfied: torch in c:\\users\\saeed\\appdata\\roaming\\python\\python311\\site-packages (from openai-whisper) (2.3.1)\n",
      "Requirement already satisfied: tqdm in c:\\users\\saeed\\appdata\\roaming\\python\\python311\\site-packages (from openai-whisper) (4.66.4)\n",
      "Requirement already satisfied: more-itertools in c:\\users\\saeed\\anaconda3\\lib\\site-packages (from openai-whisper) (8.12.0)\n",
      "Requirement already satisfied: tiktoken in c:\\users\\saeed\\anaconda3\\lib\\site-packages (from openai-whisper) (0.7.0)\n",
      "Requirement already satisfied: llvmlite<0.41,>=0.40.0dev0 in c:\\users\\saeed\\anaconda3\\lib\\site-packages (from numba->openai-whisper) (0.40.0)\n",
      "Requirement already satisfied: regex>=2022.1.18 in c:\\users\\saeed\\appdata\\roaming\\python\\python311\\site-packages (from tiktoken->openai-whisper) (2024.5.15)\n",
      "Requirement already satisfied: requests>=2.26.0 in c:\\users\\saeed\\appdata\\roaming\\python\\python311\\site-packages (from tiktoken->openai-whisper) (2.32.3)\n",
      "Requirement already satisfied: filelock in c:\\users\\saeed\\appdata\\roaming\\python\\python311\\site-packages (from torch->openai-whisper) (3.15.4)\n",
      "Requirement already satisfied: typing-extensions>=4.8.0 in c:\\users\\saeed\\appdata\\roaming\\python\\python311\\site-packages (from torch->openai-whisper) (4.12.2)\n",
      "Requirement already satisfied: sympy in c:\\users\\saeed\\appdata\\roaming\\python\\python311\\site-packages (from torch->openai-whisper) (1.12.1)\n",
      "Requirement already satisfied: networkx in c:\\users\\saeed\\appdata\\roaming\\python\\python311\\site-packages (from torch->openai-whisper) (3.3)\n",
      "Requirement already satisfied: jinja2 in c:\\users\\saeed\\appdata\\roaming\\python\\python311\\site-packages (from torch->openai-whisper) (3.1.4)\n",
      "Requirement already satisfied: fsspec in c:\\users\\saeed\\appdata\\roaming\\python\\python311\\site-packages (from torch->openai-whisper) (2024.6.1)\n",
      "Requirement already satisfied: mkl<=2021.4.0,>=2021.1.1 in c:\\users\\saeed\\appdata\\roaming\\python\\python311\\site-packages (from torch->openai-whisper) (2021.4.0)\n",
      "Requirement already satisfied: colorama in c:\\users\\saeed\\appdata\\roaming\\python\\python311\\site-packages (from tqdm->openai-whisper) (0.4.6)\n",
      "Requirement already satisfied: intel-openmp==2021.* in c:\\users\\saeed\\appdata\\roaming\\python\\python311\\site-packages (from mkl<=2021.4.0,>=2021.1.1->torch->openai-whisper) (2021.4.0)\n",
      "Requirement already satisfied: tbb==2021.* in c:\\users\\saeed\\appdata\\roaming\\python\\python311\\site-packages (from mkl<=2021.4.0,>=2021.1.1->torch->openai-whisper) (2021.13.0)\n",
      "Requirement already satisfied: charset-normalizer<4,>=2 in c:\\users\\saeed\\appdata\\roaming\\python\\python311\\site-packages (from requests>=2.26.0->tiktoken->openai-whisper) (3.3.2)\n",
      "Requirement already satisfied: idna<4,>=2.5 in c:\\users\\saeed\\appdata\\roaming\\python\\python311\\site-packages (from requests>=2.26.0->tiktoken->openai-whisper) (3.7)\n",
      "Requirement already satisfied: urllib3<3,>=1.21.1 in c:\\users\\saeed\\anaconda3\\lib\\site-packages (from requests>=2.26.0->tiktoken->openai-whisper) (2.2.2)\n",
      "Requirement already satisfied: certifi>=2017.4.17 in c:\\users\\saeed\\appdata\\roaming\\python\\python311\\site-packages (from requests>=2.26.0->tiktoken->openai-whisper) (2024.7.4)\n",
      "Requirement already satisfied: MarkupSafe>=2.0 in c:\\users\\saeed\\appdata\\roaming\\python\\python311\\site-packages (from jinja2->torch->openai-whisper) (2.1.5)\n",
      "Requirement already satisfied: mpmath<1.4.0,>=1.1.0 in c:\\users\\saeed\\appdata\\roaming\\python\\python311\\site-packages (from sympy->torch->openai-whisper) (1.3.0)\n",
      "Building wheels for collected packages: openai-whisper\n",
      "  Building wheel for openai-whisper (pyproject.toml): started\n",
      "  Building wheel for openai-whisper (pyproject.toml): finished with status 'done'\n",
      "  Created wheel for openai-whisper: filename=openai_whisper-20231117-py3-none-any.whl size=801372 sha256=43ccf176d286a4c8cfe44eab89088cdcf2ede72aed484038649a853995f9f183\n",
      "  Stored in directory: c:\\users\\saeed\\appdata\\local\\pip\\cache\\wheels\\55\\5d\\42\\c296ab046d52caa0adc0e3f159e98f011b3994a022d6282105\n",
      "Successfully built openai-whisper\n",
      "Installing collected packages: openai-whisper\n",
      "Successfully installed openai-whisper-20231117\n"
     ]
    }
   ],
   "source": [
    "pip install -U openai-whisper"
   ]
  },
  {
   "cell_type": "code",
   "execution_count": null,
   "id": "845c130e-bdde-425f-8967-63ccc99a2e65",
   "metadata": {},
   "outputs": [],
   "source": []
  }
 ],
 "metadata": {
  "kernelspec": {
   "display_name": "Python 3 (ipykernel)",
   "language": "python",
   "name": "python3"
  },
  "language_info": {
   "codemirror_mode": {
    "name": "ipython",
    "version": 3
   },
   "file_extension": ".py",
   "mimetype": "text/x-python",
   "name": "python",
   "nbconvert_exporter": "python",
   "pygments_lexer": "ipython3",
   "version": "3.11.5"
  }
 },
 "nbformat": 4,
 "nbformat_minor": 5
}
