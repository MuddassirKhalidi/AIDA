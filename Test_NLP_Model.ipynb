{
 "cells": [
  {
   "cell_type": "code",
   "execution_count": 4,
   "id": "4440edce",
   "metadata": {},
   "outputs": [],
   "source": [
    "# pip install openai"
   ]
  },
  {
   "cell_type": "code",
   "execution_count": 2,
   "id": "95ee2db3",
   "metadata": {},
   "outputs": [],
   "source": [
    "import os\n",
    "import openai\n",
    "\n",
    "from dotenv import load_dotenv, find_dotenv\n",
    "_ = load_dotenv(find_dotenv()) # read local .env file\n",
    "openai.api_key = os.environ['OPENAI_API_KEY']"
   ]
  },
  {
   "cell_type": "code",
   "execution_count": 3,
   "id": "70ef8f93",
   "metadata": {},
   "outputs": [],
   "source": [
    "# pip install -U langchain-openai"
   ]
  },
  {
   "cell_type": "code",
   "execution_count": 5,
   "id": "301b8bab",
   "metadata": {},
   "outputs": [],
   "source": [
    "from langchain_openai import ChatOpenAI"
   ]
  },
  {
   "cell_type": "code",
   "execution_count": 6,
   "id": "df786133",
   "metadata": {},
   "outputs": [
    {
     "data": {
      "text/plain": [
       "ChatOpenAI(client=<openai.resources.chat.completions.Completions object at 0x1076e1d10>, async_client=<openai.resources.chat.completions.AsyncCompletions object at 0x1076e9a50>, temperature=0.0, openai_api_key=SecretStr('**********'), openai_proxy='')"
      ]
     },
     "execution_count": 6,
     "metadata": {},
     "output_type": "execute_result"
    }
   ],
   "source": [
    "# To control the randomness and creativity of the generated\n",
    "# text by an LLM, use temperature = 0.0\n",
    "chat = ChatOpenAI(temperature=0.0, model='gpt-3.5-turbo')\n",
    "chat"
   ]
  },
  {
   "cell_type": "code",
   "execution_count": 41,
   "id": "e2a2b186",
   "metadata": {},
   "outputs": [],
   "source": [
    "template_string = \"\"\"Translate the text \\\n",
    "that is delimited by triple backticks \\\n",
    "into a style that is {style}. \\\n",
    "text: ```{text}```\n",
    "\"\"\""
   ]
  },
  {
   "cell_type": "code",
   "execution_count": 42,
   "id": "a5a1f0a5",
   "metadata": {},
   "outputs": [],
   "source": [
    "from langchain.prompts import ChatPromptTemplate\n",
    "\n",
    "prompt_template = ChatPromptTemplate.from_template(template_string)\n"
   ]
  },
  {
   "cell_type": "code",
   "execution_count": 43,
   "id": "377c468d",
   "metadata": {},
   "outputs": [
    {
     "data": {
      "text/plain": [
       "PromptTemplate(input_variables=['style', 'text'], template='Translate the text that is delimited by triple backticks into a style that is {style}. text: ```{text}```\\n')"
      ]
     },
     "execution_count": 43,
     "metadata": {},
     "output_type": "execute_result"
    }
   ],
   "source": [
    "prompt_template.messages[0].prompt"
   ]
  },
  {
   "cell_type": "code",
   "execution_count": 44,
   "id": "f50d653b",
   "metadata": {},
   "outputs": [
    {
     "data": {
      "text/plain": [
       "['style', 'text']"
      ]
     },
     "execution_count": 44,
     "metadata": {},
     "output_type": "execute_result"
    }
   ],
   "source": [
    "prompt_template.messages[0].prompt.input_variables"
   ]
  },
  {
   "cell_type": "code",
   "execution_count": 45,
   "id": "251c0679",
   "metadata": {},
   "outputs": [],
   "source": [
    "customer_style = \"\"\"American English \\\n",
    "in a calm and respectful tone\n",
    "\"\"\""
   ]
  },
  {
   "cell_type": "code",
   "execution_count": 46,
   "id": "39403c25",
   "metadata": {},
   "outputs": [],
   "source": [
    "customer_email = \"\"\"\n",
    "Arrr, I be fuming that me blender lid \\\n",
    "flew off and splattered me kitchen walls \\\n",
    "with smoothie! And to make matters worse, \\\n",
    "the warranty don't cover the cost of \\\n",
    "cleaning up me kitchen. I need yer help \\\n",
    "right now, matey!\n",
    "\"\"\""
   ]
  },
  {
   "cell_type": "code",
   "execution_count": 47,
   "id": "f5a165f7",
   "metadata": {},
   "outputs": [],
   "source": [
    "customer_messages = prompt_template.format_messages(\n",
    "                    style=customer_style,\n",
    "                    text=customer_email)"
   ]
  },
  {
   "cell_type": "code",
   "execution_count": 48,
   "id": "733750d6",
   "metadata": {},
   "outputs": [
    {
     "name": "stdout",
     "output_type": "stream",
     "text": [
      "<class 'list'>\n",
      "<class 'langchain_core.messages.human.HumanMessage'>\n"
     ]
    }
   ],
   "source": [
    "print(type(customer_messages))\n",
    "print(type(customer_messages[0]))"
   ]
  },
  {
   "cell_type": "code",
   "execution_count": 49,
   "id": "0f5f2404",
   "metadata": {},
   "outputs": [
    {
     "name": "stdout",
     "output_type": "stream",
     "text": [
      "content=\"Translate the text that is delimited by triple backticks into a style that is American English in a calm and respectful tone\\n. text: ```\\nArrr, I be fuming that me blender lid flew off and splattered me kitchen walls with smoothie! And to make matters worse, the warranty don't cover the cost of cleaning up me kitchen. I need yer help right now, matey!\\n```\\n\"\n"
     ]
    }
   ],
   "source": [
    "print(customer_messages[0])"
   ]
  },
  {
   "cell_type": "code",
   "execution_count": 56,
   "id": "7ecce056",
   "metadata": {},
   "outputs": [],
   "source": [
    "# Call the LLM to translate to the style of the customer message\n",
    "customer_response = chat.invoke(customer_messages)"
   ]
  },
  {
   "cell_type": "code",
   "execution_count": 57,
   "id": "de25719f",
   "metadata": {},
   "outputs": [
    {
     "name": "stdout",
     "output_type": "stream",
     "text": [
      "I'm really frustrated that my blender lid flew off and splattered my kitchen walls with smoothie! And to make matters worse, the warranty doesn't cover the cost of cleaning up my kitchen. I could really use your help right now, friend.\n"
     ]
    }
   ],
   "source": [
    "print(customer_response.content)"
   ]
  },
  {
   "cell_type": "code",
   "execution_count": 58,
   "id": "654a6904",
   "metadata": {},
   "outputs": [],
   "source": [
    "service_reply = \"\"\"Hey there customer, \\\n",
    "the warranty does not cover \\\n",
    "cleaning expenses for your kitchen \\\n",
    "because it's your fault that \\\n",
    "you misused your blender \\\n",
    "by forgetting to put the lid on before \\\n",
    "starting the blender. \\\n",
    "Tough luck! See ya!\n",
    "\"\"\""
   ]
  },
  {
   "cell_type": "code",
   "execution_count": 59,
   "id": "e4171816",
   "metadata": {},
   "outputs": [],
   "source": [
    "service_style_pirate = \"\"\"\\\n",
    "a polite tone \\\n",
    "that speaks in English Pirate\\\n",
    "\"\"\""
   ]
  },
  {
   "cell_type": "code",
   "execution_count": 60,
   "id": "250b6573",
   "metadata": {},
   "outputs": [
    {
     "name": "stdout",
     "output_type": "stream",
     "text": [
      "Translate the text that is delimited by triple backticks into a style that is a polite tone that speaks in English Pirate. text: ```Hey there customer, the warranty does not cover cleaning expenses for your kitchen because it's your fault that you misused your blender by forgetting to put the lid on before starting the blender. Tough luck! See ya!\n",
      "```\n",
      "\n"
     ]
    }
   ],
   "source": [
    "service_messages = prompt_template.format_messages(\n",
    "    style=service_style_pirate,\n",
    "    text=service_reply)\n",
    "\n",
    "print(service_messages[0].content)"
   ]
  },
  {
   "cell_type": "code",
   "execution_count": 61,
   "id": "ed294f37",
   "metadata": {},
   "outputs": [
    {
     "name": "stdout",
     "output_type": "stream",
     "text": [
      "Ahoy there, valued customer! Regrettably, the warranty be not coverin' the costs o' cleanin' yer galley due to yer own negligence. Ye see, 'twas yer own doin' that ye forgot to secure the lid afore startin' the blender. 'Tis a tough break, indeed! Fare thee well, matey!\n"
     ]
    }
   ],
   "source": [
    "service_response = chat.invoke(service_messages)\n",
    "print(service_response.content)"
   ]
  },
  {
   "cell_type": "code",
   "execution_count": 8,
   "id": "31c3701a",
   "metadata": {},
   "outputs": [
    {
     "ename": "BadRequestError",
     "evalue": "Error code: 400 - {'error': {'message': '[{\\'type\\': \\'string_type\\', \\'loc\\': (\\'body\\', \\'input\\'), \\'msg\\': \\'Input should be a valid string\\', \\'input\\': [\"Chicken burgers are a popular dish featuring a seasoned chicken patty, usually grilled or fried, served in a bun with toppings like lettuce, tomato, and sauces. They offer a leaner protein alternative to beef burgers while still being flavorful and satisfying, making them a favorite at various dining spots. Laptops are portable computers that combine the components, inputs, outputs, and capabilities of a desktop computer into a single, compact unit. They are equipped with a screen, keyboard, and trackpad, and are powered by rechargeable batteries. Laptops offer the convenience of mobility, making them ideal for work, study, and entertainment on the go. Birds are feathered, winged animals known for their ability to fly, although some species are flightless. They lay eggs and are found in diverse habitats worldwide. Birds play crucial roles in ecosystems, such as pollinating plants, dispersing seeds, and controlling insect populations. Their varied songs and vibrant plumage make them a favorite among nature enthusiasts. Artificial intelligence (AI) has rapidly transformed various industries over the past few years. Artificial intelligence (AI) has rapidly transformed various industries over the past few years. From healthcare to finance, AI-driven technologies are enhancing efficiency and providing innovative solutions to complex problems. In healthcare, AI algorithms are being used to analyze medical images, predict patient outcomes, and even assist in surgeries. In finance, AI is helping to detect fraudulent transactions, automate trading, and provide personalized financial advice. As AI continues to evolve, its potential applications seem limitless, promising to revolutionize the way we live and work. However, this rapid advancement also raises ethical and societal concerns, such as job displacement and privacy issues, which must be carefully addressed to ensure that the benefits of AI are maximized while minimizing its risks. Climate change is one of the most pressing issues facing our planet today. The increasing concentration of greenhouse gases in the atmosphere, primarily due to human activities such as burning fossil fuels and deforestation, is leading to global warming and significant changes in weather patterns. These changes are resulting in more frequent and severe natural disasters, such as hurricanes, floods, and wildfires. Additionally, rising temperatures are causing polar ice caps to melt, leading to sea level rise and threatening coastal communities. It is imperative that governments, businesses, and individuals take urgent action to reduce carbon emissions and adopt sustainable practices to mitigate the impacts of climate change and protect the environment for future generations. Renewable energy sources, such as solar, wind, and hydroelectric power, are becoming increasingly important as the world seeks to transition away from fossil fuels and reduce greenhouse gas emissions. Solar energy, harnessed through photovoltaic cells, is one of the most abundant and sustainable sources of power available. Wind energy, generated by wind turbines, is another rapidly growing renewable energy source with significant potential. Hydroelectric power, which uses the energy of flowing water to generate electricity, has been a reliable source of renewable energy for decades. As technology advances and the cost of renewable energy continues to decrease, it is becoming a more viable and attractive option for meeting the world\\'s energy needs while also addressing environmental concerns. Space exploration has always captivated human imagination, from the early days of observing the stars to the recent missions to Mars. Advances in technology have allowed us to send spacecraft to the far reaches of our solar system, explore distant planets, and even search for signs of extraterrestrial life. The International Space Station (ISS) serves as a hub for scientific research and international collaboration, enabling scientists to conduct experiments in microgravity and gain insights into various scientific fields. The future of\", \"space exploration holds exciting possibilities, including manned missions to Mars, the establishment of lunar bases, and the potential for interstellar travel. As we continue to explore the cosmos, we are likely to uncover new knowledge and discoveries that will shape our understanding of the universe and our place within it. Cybersecurity is a critical concern in today\\'s digital age, as cyber threats and attacks become increasingly sophisticated and widespread. Organizations and individuals alike face the risk of data breaches, identity theft, and other cybercrimes that can have severe consequences. To protect against these threats, it is essential to implement robust security measures, such as encryption, multi-factor authentication, and regular security audits. Additionally, staying informed about the latest cybersecurity trends and threats can help individuals and organizations stay ahead of potential risks. As technology continues to advance and more aspects of our lives move online, the importance of cybersecurity will only continue to grow, making it a crucial area of focus for both current and future generations. Here\\'s a simple and delicious pancake recipe for you: Classic Pancake Recipe. Ingredients: 1 cup all-purpose flour 2 tablespoons sugar 1 teaspoon baking powder 1/2 teaspoon baking soda 1/4 teaspoon salt 3/4 cup buttermilk (or regular milk with 1 tablespoon vinegar or lemon juice added) 1/4 cup milk 1 large egg 2 tablespoons melted butter (plus more for cooking) 1 teaspoon vanilla extract (optional)\"]}]', 'type': 'invalid_request_error', 'param': None, 'code': None}}",
     "output_type": "error",
     "traceback": [
      "\u001b[0;31m---------------------------------------------------------------------------\u001b[0m",
      "\u001b[0;31mBadRequestError\u001b[0m                           Traceback (most recent call last)",
      "Cell \u001b[0;32mIn[8], line 39\u001b[0m\n\u001b[1;32m     23\u001b[0m     \u001b[38;5;28;01mreturn\u001b[39;00m chunks\n\u001b[1;32m     25\u001b[0m input_text\u001b[38;5;241m=\u001b[39m\u001b[38;5;124m'''\u001b[39m\u001b[38;5;124mChicken burgers are a popular dish featuring a seasoned chicken patty, usually grilled or fried, served in a bun with toppings like lettuce, tomato, and sauces. They offer a leaner protein alternative to beef burgers while still being flavorful and satisfying, making them a favorite at various dining spots. Laptops are portable computers that combine the components, inputs, outputs, and capabilities of a desktop computer into a single, compact unit. They are equipped with a screen, keyboard, and trackpad, and are powered by rechargeable batteries. Laptops offer the convenience of mobility, making them ideal for work, study, and entertainment on the go. Birds are feathered, winged animals known for their ability to fly, although some species are flightless. They lay eggs and are found in diverse habitats worldwide. Birds play crucial roles in ecosystems, such as pollinating plants, dispersing seeds, and controlling insect populations. Their varied songs and vibrant plumage make them a favorite among nature enthusiasts. Artificial intelligence (AI) has rapidly transformed various industries over the past few years. Artificial intelligence (AI) has rapidly transformed various industries over the past few years. From healthcare to finance, AI-driven technologies are enhancing efficiency and providing innovative solutions to complex problems. In healthcare, AI algorithms are being used to analyze medical images, predict patient outcomes, and even assist in surgeries. In finance, AI is helping to detect fraudulent transactions, automate trading, and provide personalized financial advice. As AI continues to evolve, its potential applications seem limitless, promising to revolutionize the way we live and work. However, this rapid advancement also raises ethical and societal concerns, such as job displacement and privacy issues, which must be carefully addressed to ensure that the benefits of AI are maximized while minimizing its risks. Climate change is one of the most pressing issues facing our planet today. The increasing concentration of greenhouse gases in the atmosphere, primarily due to human activities such as burning fossil fuels and deforestation, is leading to global warming and significant changes in weather patterns. These changes are resulting in more frequent and severe natural disasters, such as hurricanes, floods, and wildfires. Additionally, rising temperatures are causing polar ice caps to melt, leading to sea level rise and threatening coastal communities. It is imperative that governments, businesses, and individuals take urgent action to reduce carbon emissions and adopt sustainable practices to mitigate the impacts of climate change and protect the environment for future generations. Renewable energy sources, such as solar, wind, and hydroelectric power, are becoming increasingly important as the world seeks to transition away from fossil fuels and reduce greenhouse gas emissions. Solar energy, harnessed through photovoltaic cells, is one of the most abundant and sustainable sources of power available. Wind energy, generated by wind turbines, is another rapidly growing renewable energy source with significant potential. Hydroelectric power, which uses the energy of flowing water to generate electricity, has been a reliable source of renewable energy for decades. As technology advances and the cost of renewable energy continues to decrease, it is becoming a more viable and attractive option for meeting the world\u001b[39m\u001b[38;5;124m'\u001b[39m\u001b[38;5;124ms energy needs while also addressing environmental concerns. Space exploration has always captivated human imagination, from the early days of observing the stars to the recent missions to Mars. Advances in technology have allowed us to send spacecraft to the far reaches of our solar system, explore distant planets, and even search for signs of extraterrestrial life. The International Space Station (ISS) serves as a hub for scientific research and international collaboration, enabling scientists to conduct experiments in microgravity and gain insights into various scientific fields. The future of space exploration holds exciting possibilities, including manned missions to Mars, the establishment of lunar bases, and the potential for interstellar travel. As we continue to explore the cosmos, we are likely to uncover new knowledge and discoveries that will shape our understanding of the universe and our place within it. Cybersecurity is a critical concern in today\u001b[39m\u001b[38;5;124m'\u001b[39m\u001b[38;5;124ms digital age, as cyber threats and attacks become increasingly sophisticated and widespread. Organizations and individuals alike face the risk of data breaches, identity theft, and other cybercrimes that can have severe consequences. To protect against these threats, it is essential to implement robust security measures, such as encryption, multi-factor authentication, and regular security audits. Additionally, staying informed about the latest cybersecurity trends and threats can help individuals and organizations stay ahead of potential risks. As technology continues to advance and more aspects of our lives move online, the importance of cybersecurity will only continue to grow, making it a crucial area of focus for both current and future generations. Here\u001b[39m\u001b[38;5;124m'\u001b[39m\u001b[38;5;124ms a simple and delicious pancake recipe for you:\u001b[39m\n\u001b[1;32m     26\u001b[0m \u001b[38;5;124mClassic Pancake Recipe.\u001b[39m\n\u001b[1;32m     27\u001b[0m \u001b[38;5;124mIngredients:\u001b[39m\n\u001b[0;32m   (...)\u001b[0m\n\u001b[1;32m     36\u001b[0m \u001b[38;5;124m2 tablespoons melted butter (plus more for cooking)\u001b[39m\n\u001b[1;32m     37\u001b[0m \u001b[38;5;124m1 teaspoon vanilla extract (optional)\u001b[39m\u001b[38;5;124m'''\u001b[39m\n\u001b[0;32m---> 39\u001b[0m response \u001b[38;5;241m=\u001b[39m client\u001b[38;5;241m.\u001b[39maudio\u001b[38;5;241m.\u001b[39mspeech\u001b[38;5;241m.\u001b[39mcreate(\n\u001b[1;32m     40\u001b[0m     model\u001b[38;5;241m=\u001b[39m\u001b[38;5;124m\"\u001b[39m\u001b[38;5;124mtts-1\u001b[39m\u001b[38;5;124m\"\u001b[39m,\n\u001b[1;32m     41\u001b[0m     voice\u001b[38;5;241m=\u001b[39m\u001b[38;5;124m\"\u001b[39m\u001b[38;5;124malloy\u001b[39m\u001b[38;5;124m\"\u001b[39m,\n\u001b[1;32m     42\u001b[0m     \u001b[38;5;28minput\u001b[39m \u001b[38;5;241m=\u001b[39m split_text(input_text, \u001b[38;5;241m4096\u001b[39m)\n\u001b[1;32m     43\u001b[0m \n\u001b[1;32m     44\u001b[0m )\n\u001b[1;32m     46\u001b[0m response\u001b[38;5;241m.\u001b[39mstream_to_file(\u001b[38;5;124m\"\u001b[39m\u001b[38;5;124mspeech.mp3\u001b[39m\u001b[38;5;124m\"\u001b[39m)\n",
      "File \u001b[0;32m~/anaconda3/lib/python3.11/site-packages/openai/resources/audio/speech.py:86\u001b[0m, in \u001b[0;36mSpeech.create\u001b[0;34m(self, input, model, voice, response_format, speed, extra_headers, extra_query, extra_body, timeout)\u001b[0m\n\u001b[1;32m     56\u001b[0m \u001b[38;5;250m\u001b[39m\u001b[38;5;124;03m\"\"\"\u001b[39;00m\n\u001b[1;32m     57\u001b[0m \u001b[38;5;124;03mGenerates audio from the input text.\u001b[39;00m\n\u001b[1;32m     58\u001b[0m \n\u001b[0;32m   (...)\u001b[0m\n\u001b[1;32m     83\u001b[0m \u001b[38;5;124;03m  timeout: Override the client-level default timeout for this request, in seconds\u001b[39;00m\n\u001b[1;32m     84\u001b[0m \u001b[38;5;124;03m\"\"\"\u001b[39;00m\n\u001b[1;32m     85\u001b[0m extra_headers \u001b[38;5;241m=\u001b[39m {\u001b[38;5;124m\"\u001b[39m\u001b[38;5;124mAccept\u001b[39m\u001b[38;5;124m\"\u001b[39m: \u001b[38;5;124m\"\u001b[39m\u001b[38;5;124mapplication/octet-stream\u001b[39m\u001b[38;5;124m\"\u001b[39m, \u001b[38;5;241m*\u001b[39m\u001b[38;5;241m*\u001b[39m(extra_headers \u001b[38;5;129;01mor\u001b[39;00m {})}\n\u001b[0;32m---> 86\u001b[0m \u001b[38;5;28;01mreturn\u001b[39;00m \u001b[38;5;28mself\u001b[39m\u001b[38;5;241m.\u001b[39m_post(\n\u001b[1;32m     87\u001b[0m     \u001b[38;5;124m\"\u001b[39m\u001b[38;5;124m/audio/speech\u001b[39m\u001b[38;5;124m\"\u001b[39m,\n\u001b[1;32m     88\u001b[0m     body\u001b[38;5;241m=\u001b[39mmaybe_transform(\n\u001b[1;32m     89\u001b[0m         {\n\u001b[1;32m     90\u001b[0m             \u001b[38;5;124m\"\u001b[39m\u001b[38;5;124minput\u001b[39m\u001b[38;5;124m\"\u001b[39m: \u001b[38;5;28minput\u001b[39m,\n\u001b[1;32m     91\u001b[0m             \u001b[38;5;124m\"\u001b[39m\u001b[38;5;124mmodel\u001b[39m\u001b[38;5;124m\"\u001b[39m: model,\n\u001b[1;32m     92\u001b[0m             \u001b[38;5;124m\"\u001b[39m\u001b[38;5;124mvoice\u001b[39m\u001b[38;5;124m\"\u001b[39m: voice,\n\u001b[1;32m     93\u001b[0m             \u001b[38;5;124m\"\u001b[39m\u001b[38;5;124mresponse_format\u001b[39m\u001b[38;5;124m\"\u001b[39m: response_format,\n\u001b[1;32m     94\u001b[0m             \u001b[38;5;124m\"\u001b[39m\u001b[38;5;124mspeed\u001b[39m\u001b[38;5;124m\"\u001b[39m: speed,\n\u001b[1;32m     95\u001b[0m         },\n\u001b[1;32m     96\u001b[0m         speech_create_params\u001b[38;5;241m.\u001b[39mSpeechCreateParams,\n\u001b[1;32m     97\u001b[0m     ),\n\u001b[1;32m     98\u001b[0m     options\u001b[38;5;241m=\u001b[39mmake_request_options(\n\u001b[1;32m     99\u001b[0m         extra_headers\u001b[38;5;241m=\u001b[39mextra_headers, extra_query\u001b[38;5;241m=\u001b[39mextra_query, extra_body\u001b[38;5;241m=\u001b[39mextra_body, timeout\u001b[38;5;241m=\u001b[39mtimeout\n\u001b[1;32m    100\u001b[0m     ),\n\u001b[1;32m    101\u001b[0m     cast_to\u001b[38;5;241m=\u001b[39m_legacy_response\u001b[38;5;241m.\u001b[39mHttpxBinaryResponseContent,\n\u001b[1;32m    102\u001b[0m )\n",
      "File \u001b[0;32m~/anaconda3/lib/python3.11/site-packages/openai/_base_client.py:1250\u001b[0m, in \u001b[0;36mSyncAPIClient.post\u001b[0;34m(self, path, cast_to, body, options, files, stream, stream_cls)\u001b[0m\n\u001b[1;32m   1236\u001b[0m \u001b[38;5;28;01mdef\u001b[39;00m \u001b[38;5;21mpost\u001b[39m(\n\u001b[1;32m   1237\u001b[0m     \u001b[38;5;28mself\u001b[39m,\n\u001b[1;32m   1238\u001b[0m     path: \u001b[38;5;28mstr\u001b[39m,\n\u001b[0;32m   (...)\u001b[0m\n\u001b[1;32m   1245\u001b[0m     stream_cls: \u001b[38;5;28mtype\u001b[39m[_StreamT] \u001b[38;5;241m|\u001b[39m \u001b[38;5;28;01mNone\u001b[39;00m \u001b[38;5;241m=\u001b[39m \u001b[38;5;28;01mNone\u001b[39;00m,\n\u001b[1;32m   1246\u001b[0m ) \u001b[38;5;241m-\u001b[39m\u001b[38;5;241m>\u001b[39m ResponseT \u001b[38;5;241m|\u001b[39m _StreamT:\n\u001b[1;32m   1247\u001b[0m     opts \u001b[38;5;241m=\u001b[39m FinalRequestOptions\u001b[38;5;241m.\u001b[39mconstruct(\n\u001b[1;32m   1248\u001b[0m         method\u001b[38;5;241m=\u001b[39m\u001b[38;5;124m\"\u001b[39m\u001b[38;5;124mpost\u001b[39m\u001b[38;5;124m\"\u001b[39m, url\u001b[38;5;241m=\u001b[39mpath, json_data\u001b[38;5;241m=\u001b[39mbody, files\u001b[38;5;241m=\u001b[39mto_httpx_files(files), \u001b[38;5;241m*\u001b[39m\u001b[38;5;241m*\u001b[39moptions\n\u001b[1;32m   1249\u001b[0m     )\n\u001b[0;32m-> 1250\u001b[0m     \u001b[38;5;28;01mreturn\u001b[39;00m cast(ResponseT, \u001b[38;5;28mself\u001b[39m\u001b[38;5;241m.\u001b[39mrequest(cast_to, opts, stream\u001b[38;5;241m=\u001b[39mstream, stream_cls\u001b[38;5;241m=\u001b[39mstream_cls))\n",
      "File \u001b[0;32m~/anaconda3/lib/python3.11/site-packages/openai/_base_client.py:931\u001b[0m, in \u001b[0;36mSyncAPIClient.request\u001b[0;34m(self, cast_to, options, remaining_retries, stream, stream_cls)\u001b[0m\n\u001b[1;32m    922\u001b[0m \u001b[38;5;28;01mdef\u001b[39;00m \u001b[38;5;21mrequest\u001b[39m(\n\u001b[1;32m    923\u001b[0m     \u001b[38;5;28mself\u001b[39m,\n\u001b[1;32m    924\u001b[0m     cast_to: Type[ResponseT],\n\u001b[0;32m   (...)\u001b[0m\n\u001b[1;32m    929\u001b[0m     stream_cls: \u001b[38;5;28mtype\u001b[39m[_StreamT] \u001b[38;5;241m|\u001b[39m \u001b[38;5;28;01mNone\u001b[39;00m \u001b[38;5;241m=\u001b[39m \u001b[38;5;28;01mNone\u001b[39;00m,\n\u001b[1;32m    930\u001b[0m ) \u001b[38;5;241m-\u001b[39m\u001b[38;5;241m>\u001b[39m ResponseT \u001b[38;5;241m|\u001b[39m _StreamT:\n\u001b[0;32m--> 931\u001b[0m     \u001b[38;5;28;01mreturn\u001b[39;00m \u001b[38;5;28mself\u001b[39m\u001b[38;5;241m.\u001b[39m_request(\n\u001b[1;32m    932\u001b[0m         cast_to\u001b[38;5;241m=\u001b[39mcast_to,\n\u001b[1;32m    933\u001b[0m         options\u001b[38;5;241m=\u001b[39moptions,\n\u001b[1;32m    934\u001b[0m         stream\u001b[38;5;241m=\u001b[39mstream,\n\u001b[1;32m    935\u001b[0m         stream_cls\u001b[38;5;241m=\u001b[39mstream_cls,\n\u001b[1;32m    936\u001b[0m         remaining_retries\u001b[38;5;241m=\u001b[39mremaining_retries,\n\u001b[1;32m    937\u001b[0m     )\n",
      "File \u001b[0;32m~/anaconda3/lib/python3.11/site-packages/openai/_base_client.py:1030\u001b[0m, in \u001b[0;36mSyncAPIClient._request\u001b[0;34m(self, cast_to, options, remaining_retries, stream, stream_cls)\u001b[0m\n\u001b[1;32m   1027\u001b[0m         err\u001b[38;5;241m.\u001b[39mresponse\u001b[38;5;241m.\u001b[39mread()\n\u001b[1;32m   1029\u001b[0m     log\u001b[38;5;241m.\u001b[39mdebug(\u001b[38;5;124m\"\u001b[39m\u001b[38;5;124mRe-raising status error\u001b[39m\u001b[38;5;124m\"\u001b[39m)\n\u001b[0;32m-> 1030\u001b[0m     \u001b[38;5;28;01mraise\u001b[39;00m \u001b[38;5;28mself\u001b[39m\u001b[38;5;241m.\u001b[39m_make_status_error_from_response(err\u001b[38;5;241m.\u001b[39mresponse) \u001b[38;5;28;01mfrom\u001b[39;00m \u001b[38;5;28;01mNone\u001b[39;00m\n\u001b[1;32m   1032\u001b[0m \u001b[38;5;28;01mreturn\u001b[39;00m \u001b[38;5;28mself\u001b[39m\u001b[38;5;241m.\u001b[39m_process_response(\n\u001b[1;32m   1033\u001b[0m     cast_to\u001b[38;5;241m=\u001b[39mcast_to,\n\u001b[1;32m   1034\u001b[0m     options\u001b[38;5;241m=\u001b[39moptions,\n\u001b[0;32m   (...)\u001b[0m\n\u001b[1;32m   1037\u001b[0m     stream_cls\u001b[38;5;241m=\u001b[39mstream_cls,\n\u001b[1;32m   1038\u001b[0m )\n",
      "\u001b[0;31mBadRequestError\u001b[0m: Error code: 400 - {'error': {'message': '[{\\'type\\': \\'string_type\\', \\'loc\\': (\\'body\\', \\'input\\'), \\'msg\\': \\'Input should be a valid string\\', \\'input\\': [\"Chicken burgers are a popular dish featuring a seasoned chicken patty, usually grilled or fried, served in a bun with toppings like lettuce, tomato, and sauces. They offer a leaner protein alternative to beef burgers while still being flavorful and satisfying, making them a favorite at various dining spots. Laptops are portable computers that combine the components, inputs, outputs, and capabilities of a desktop computer into a single, compact unit. They are equipped with a screen, keyboard, and trackpad, and are powered by rechargeable batteries. Laptops offer the convenience of mobility, making them ideal for work, study, and entertainment on the go. Birds are feathered, winged animals known for their ability to fly, although some species are flightless. They lay eggs and are found in diverse habitats worldwide. Birds play crucial roles in ecosystems, such as pollinating plants, dispersing seeds, and controlling insect populations. Their varied songs and vibrant plumage make them a favorite among nature enthusiasts. Artificial intelligence (AI) has rapidly transformed various industries over the past few years. Artificial intelligence (AI) has rapidly transformed various industries over the past few years. From healthcare to finance, AI-driven technologies are enhancing efficiency and providing innovative solutions to complex problems. In healthcare, AI algorithms are being used to analyze medical images, predict patient outcomes, and even assist in surgeries. In finance, AI is helping to detect fraudulent transactions, automate trading, and provide personalized financial advice. As AI continues to evolve, its potential applications seem limitless, promising to revolutionize the way we live and work. However, this rapid advancement also raises ethical and societal concerns, such as job displacement and privacy issues, which must be carefully addressed to ensure that the benefits of AI are maximized while minimizing its risks. Climate change is one of the most pressing issues facing our planet today. The increasing concentration of greenhouse gases in the atmosphere, primarily due to human activities such as burning fossil fuels and deforestation, is leading to global warming and significant changes in weather patterns. These changes are resulting in more frequent and severe natural disasters, such as hurricanes, floods, and wildfires. Additionally, rising temperatures are causing polar ice caps to melt, leading to sea level rise and threatening coastal communities. It is imperative that governments, businesses, and individuals take urgent action to reduce carbon emissions and adopt sustainable practices to mitigate the impacts of climate change and protect the environment for future generations. Renewable energy sources, such as solar, wind, and hydroelectric power, are becoming increasingly important as the world seeks to transition away from fossil fuels and reduce greenhouse gas emissions. Solar energy, harnessed through photovoltaic cells, is one of the most abundant and sustainable sources of power available. Wind energy, generated by wind turbines, is another rapidly growing renewable energy source with significant potential. Hydroelectric power, which uses the energy of flowing water to generate electricity, has been a reliable source of renewable energy for decades. As technology advances and the cost of renewable energy continues to decrease, it is becoming a more viable and attractive option for meeting the world\\'s energy needs while also addressing environmental concerns. Space exploration has always captivated human imagination, from the early days of observing the stars to the recent missions to Mars. Advances in technology have allowed us to send spacecraft to the far reaches of our solar system, explore distant planets, and even search for signs of extraterrestrial life. The International Space Station (ISS) serves as a hub for scientific research and international collaboration, enabling scientists to conduct experiments in microgravity and gain insights into various scientific fields. The future of\", \"space exploration holds exciting possibilities, including manned missions to Mars, the establishment of lunar bases, and the potential for interstellar travel. As we continue to explore the cosmos, we are likely to uncover new knowledge and discoveries that will shape our understanding of the universe and our place within it. Cybersecurity is a critical concern in today\\'s digital age, as cyber threats and attacks become increasingly sophisticated and widespread. Organizations and individuals alike face the risk of data breaches, identity theft, and other cybercrimes that can have severe consequences. To protect against these threats, it is essential to implement robust security measures, such as encryption, multi-factor authentication, and regular security audits. Additionally, staying informed about the latest cybersecurity trends and threats can help individuals and organizations stay ahead of potential risks. As technology continues to advance and more aspects of our lives move online, the importance of cybersecurity will only continue to grow, making it a crucial area of focus for both current and future generations. Here\\'s a simple and delicious pancake recipe for you: Classic Pancake Recipe. Ingredients: 1 cup all-purpose flour 2 tablespoons sugar 1 teaspoon baking powder 1/2 teaspoon baking soda 1/4 teaspoon salt 3/4 cup buttermilk (or regular milk with 1 tablespoon vinegar or lemon juice added) 1/4 cup milk 1 large egg 2 tablespoons melted butter (plus more for cooking) 1 teaspoon vanilla extract (optional)\"]}]', 'type': 'invalid_request_error', 'param': None, 'code': None}}"
     ]
    }
   ],
   "source": [
    "from openai import OpenAI\n",
    "\n",
    "client = OpenAI()\n",
    "from openai import OpenAI\n",
    "\n",
    "client = OpenAI()\n",
    "\n",
    "def split_text(text, max_length):\n",
    "    words = text.split()\n",
    "    chunks = []\n",
    "    current_chunk = []\n",
    "\n",
    "    for word in words:\n",
    "        if len(\" \".join(current_chunk + [word])) <= max_length:\n",
    "            current_chunk.append(word)\n",
    "        else:\n",
    "            chunks.append(\" \".join(current_chunk))\n",
    "            current_chunk = [word]\n",
    "    \n",
    "    if current_chunk:\n",
    "        chunks.append(\" \".join(current_chunk))\n",
    "    \n",
    "    return chunks\n",
    "\n",
    "input_text='''Chicken burgers are a popular dish featuring a seasoned chicken patty, usually grilled or fried, served in a bun with toppings like lettuce, tomato, and sauces. They offer a leaner protein alternative to beef burgers while still being flavorful and satisfying, making them a favorite at various dining spots. Laptops are portable computers that combine the components, inputs, outputs, and capabilities of a desktop computer into a single, compact unit. They are equipped with a screen, keyboard, and trackpad, and are powered by rechargeable batteries. Laptops offer the convenience of mobility, making them ideal for work, study, and entertainment on the go. Birds are feathered, winged animals known for their ability to fly, although some species are flightless. They lay eggs and are found in diverse habitats worldwide. Birds play crucial roles in ecosystems, such as pollinating plants, dispersing seeds, and controlling insect populations. Their varied songs and vibrant plumage make them a favorite among nature enthusiasts. Artificial intelligence (AI) has rapidly transformed various industries over the past few years. Artificial intelligence (AI) has rapidly transformed various industries over the past few years. From healthcare to finance, AI-driven technologies are enhancing efficiency and providing innovative solutions to complex problems. In healthcare, AI algorithms are being used to analyze medical images, predict patient outcomes, and even assist in surgeries. In finance, AI is helping to detect fraudulent transactions, automate trading, and provide personalized financial advice. As AI continues to evolve, its potential applications seem limitless, promising to revolutionize the way we live and work. However, this rapid advancement also raises ethical and societal concerns, such as job displacement and privacy issues, which must be carefully addressed to ensure that the benefits of AI are maximized while minimizing its risks. Climate change is one of the most pressing issues facing our planet today. The increasing concentration of greenhouse gases in the atmosphere, primarily due to human activities such as burning fossil fuels and deforestation, is leading to global warming and significant changes in weather patterns. These changes are resulting in more frequent and severe natural disasters, such as hurricanes, floods, and wildfires. Additionally, rising temperatures are causing polar ice caps to melt, leading to sea level rise and threatening coastal communities. It is imperative that governments, businesses, and individuals take urgent action to reduce carbon emissions and adopt sustainable practices to mitigate the impacts of climate change and protect the environment for future generations. Renewable energy sources, such as solar, wind, and hydroelectric power, are becoming increasingly important as the world seeks to transition away from fossil fuels and reduce greenhouse gas emissions. Solar energy, harnessed through photovoltaic cells, is one of the most abundant and sustainable sources of power available. Wind energy, generated by wind turbines, is another rapidly growing renewable energy source with significant potential. Hydroelectric power, which uses the energy of flowing water to generate electricity, has been a reliable source of renewable energy for decades. As technology advances and the cost of renewable energy continues to decrease, it is becoming a more viable and attractive option for meeting the world's energy needs while also addressing environmental concerns. Space exploration has always captivated human imagination, from the early days of observing the stars to the recent missions to Mars. Advances in technology have allowed us to send spacecraft to the far reaches of our solar system, explore distant planets, and even search for signs of extraterrestrial life. The International Space Station (ISS) serves as a hub for scientific research and international collaboration, enabling scientists to conduct experiments in microgravity and gain insights into various scientific fields. The future of space exploration holds exciting possibilities, including manned missions to Mars, the establishment of lunar bases, and the potential for interstellar travel. As we continue to explore the cosmos, we are likely to uncover new knowledge and discoveries that will shape our understanding of the universe and our place within it. Cybersecurity is a critical concern in today's digital age, as cyber threats and attacks become increasingly sophisticated and widespread. Organizations and individuals alike face the risk of data breaches, identity theft, and other cybercrimes that can have severe consequences. To protect against these threats, it is essential to implement robust security measures, such as encryption, multi-factor authentication, and regular security audits. Additionally, staying informed about the latest cybersecurity trends and threats can help individuals and organizations stay ahead of potential risks. As technology continues to advance and more aspects of our lives move online, the importance of cybersecurity will only continue to grow, making it a crucial area of focus for both current and future generations. Here's a simple and delicious pancake recipe for you:\n",
    "Classic Pancake Recipe.\n",
    "Ingredients:\n",
    "1 cup all-purpose flour\n",
    "2 tablespoons sugar\n",
    "1 teaspoon baking powder\n",
    "1/2 teaspoon baking soda\n",
    "1/4 teaspoon salt\n",
    "3/4 cup buttermilk (or regular milk with 1 tablespoon vinegar or lemon juice added)\n",
    "1/4 cup milk\n",
    "1 large egg\n",
    "2 tablespoons melted butter (plus more for cooking)\n",
    "1 teaspoon vanilla extract (optional)'''\n",
    "\n",
    "split_text(input_text, 4096)\n",
    "response = client.audio.speech.create(\n",
    "    model=\"tts-1\",\n",
    "    voice=\"alloy\",\n",
    "    input = split_text(input_text, 4096)\n",
    "\n",
    ")\n",
    "\n",
    "response.stream_to_file(\"speech.mp3\")"
   ]
  },
  {
   "cell_type": "code",
   "execution_count": 76,
   "id": "678fbdf7",
   "metadata": {},
   "outputs": [
    {
     "name": "stdout",
     "output_type": "stream",
     "text": [
      "/Users/muddassirkhalidi/Desktop/AIDA Lab/Memoro/Prince Sultan University.m4a\n",
      "hello world be louder say hello world it's a good accent oh this is our first test and let's see if this works\n",
      "\n"
     ]
    }
   ],
   "source": [
    "from openai import OpenAI\n",
    "import os\n",
    "client = OpenAI()\n",
    "path = os.path.join(os.getcwd() + \"/Prince Sultan University.m4a\")\n",
    "print(path)\n",
    "audio_file= open(path, \"rb\")\n",
    "transcription = client.audio.transcriptions.create(\n",
    "  model=\"whisper-1\", \n",
    "  file=audio_file, \n",
    "  response_format=\"text\"\n",
    ")\n",
    "print(transcription)\n"
   ]
  },
  {
   "cell_type": "code",
   "execution_count": 2,
   "id": "12912a24",
   "metadata": {},
   "outputs": [
    {
     "name": "stdout",
     "output_type": "stream",
     "text": [
      "Collecting torch\n",
      "  Obtaining dependency information for torch from https://files.pythonhosted.org/packages/3f/14/e105b8ef6d324e789c1589e95cb0ab63f3e07c2216d68b1178b7c21b7d2a/torch-2.2.2-cp311-none-macosx_10_9_x86_64.whl.metadata\n",
      "  Downloading torch-2.2.2-cp311-none-macosx_10_9_x86_64.whl.metadata (25 kB)\n",
      "Requirement already satisfied: filelock in /Users/muddassirkhalidi/anaconda3/lib/python3.11/site-packages (from torch) (3.9.0)\n",
      "Collecting typing-extensions>=4.8.0 (from torch)\n",
      "  Obtaining dependency information for typing-extensions>=4.8.0 from https://files.pythonhosted.org/packages/26/9f/ad63fc0248c5379346306f8668cda6e2e2e9c95e01216d2b8ffd9ff037d0/typing_extensions-4.12.2-py3-none-any.whl.metadata\n",
      "  Downloading typing_extensions-4.12.2-py3-none-any.whl.metadata (3.0 kB)\n",
      "Requirement already satisfied: sympy in /Users/muddassirkhalidi/anaconda3/lib/python3.11/site-packages (from torch) (1.11.1)\n",
      "Requirement already satisfied: networkx in /Users/muddassirkhalidi/anaconda3/lib/python3.11/site-packages (from torch) (3.1)\n",
      "Requirement already satisfied: jinja2 in /Users/muddassirkhalidi/anaconda3/lib/python3.11/site-packages (from torch) (3.1.2)\n",
      "Requirement already satisfied: fsspec in /Users/muddassirkhalidi/anaconda3/lib/python3.11/site-packages (from torch) (2023.4.0)\n",
      "Requirement already satisfied: MarkupSafe>=2.0 in /Users/muddassirkhalidi/anaconda3/lib/python3.11/site-packages (from jinja2->torch) (2.1.1)\n",
      "Requirement already satisfied: mpmath>=0.19 in /Users/muddassirkhalidi/anaconda3/lib/python3.11/site-packages (from sympy->torch) (1.3.0)\n",
      "Downloading torch-2.2.2-cp311-none-macosx_10_9_x86_64.whl (150.8 MB)\n",
      "\u001b[2K   \u001b[90m━━━━━━━━━━━━━━━━━━━━━━━━━━━━━━━━━━━━━━━━\u001b[0m \u001b[32m150.8/150.8 MB\u001b[0m \u001b[31m6.1 MB/s\u001b[0m eta \u001b[36m0:00:00\u001b[0m:00:01\u001b[0m00:01\u001b[0m\n",
      "\u001b[?25hDownloading typing_extensions-4.12.2-py3-none-any.whl (37 kB)\n",
      "Installing collected packages: typing-extensions, torch\n",
      "  Attempting uninstall: typing-extensions\n",
      "    Found existing installation: typing_extensions 4.7.1\n",
      "    Uninstalling typing_extensions-4.7.1:\n",
      "      Successfully uninstalled typing_extensions-4.7.1\n",
      "Successfully installed torch-2.2.2 typing-extensions-4.12.2\n",
      "Note: you may need to restart the kernel to use updated packages.\n"
     ]
    }
   ],
   "source": [
    "pip install torch"
   ]
  },
  {
   "cell_type": "code",
   "execution_count": 3,
   "id": "73567654",
   "metadata": {},
   "outputs": [
    {
     "ename": "ModuleNotFoundError",
     "evalue": "No module named 'pytorch'",
     "output_type": "error",
     "traceback": [
      "\u001b[0;31m---------------------------------------------------------------------------\u001b[0m",
      "\u001b[0;31mModuleNotFoundError\u001b[0m                       Traceback (most recent call last)",
      "Cell \u001b[0;32mIn[3], line 1\u001b[0m\n\u001b[0;32m----> 1\u001b[0m \u001b[38;5;28;01mimport\u001b[39;00m \u001b[38;5;21;01mpytorch\u001b[39;00m\n",
      "\u001b[0;31mModuleNotFoundError\u001b[0m: No module named 'pytorch'"
     ]
    }
   ],
   "source": [
    "import pytorch"
   ]
  },
  {
   "cell_type": "code",
   "execution_count": 4,
   "id": "f05fbc35",
   "metadata": {},
   "outputs": [],
   "source": [
    "import torch"
   ]
  },
  {
   "cell_type": "code",
   "execution_count": null,
   "id": "6a83813b",
   "metadata": {},
   "outputs": [],
   "source": []
  }
 ],
 "metadata": {
  "kernelspec": {
   "display_name": "Python 3 (ipykernel)",
   "language": "python",
   "name": "python3"
  },
  "language_info": {
   "codemirror_mode": {
    "name": "ipython",
    "version": 3
   },
   "file_extension": ".py",
   "mimetype": "text/x-python",
   "name": "python",
   "nbconvert_exporter": "python",
   "pygments_lexer": "ipython3",
   "version": "3.11.5"
  }
 },
 "nbformat": 4,
 "nbformat_minor": 5
}
