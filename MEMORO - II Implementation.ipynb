{
 "cells": [
  {
   "cell_type": "markdown",
   "id": "87880c0e",
   "metadata": {},
   "source": [
    "### Use this cell to make installations"
   ]
  },
  {
   "cell_type": "code",
   "execution_count": 4,
   "id": "7ea66d66",
   "metadata": {},
   "outputs": [],
   "source": [
    "!pip install pocketsphinx\n",
    "!pip install pyttsx3"
   ]
  },
  {
   "cell_type": "markdown",
   "id": "04c6dd29",
   "metadata": {},
   "source": [
    "### Use this cell to import any libraries"
   ]
  },
  {
   "cell_type": "code",
   "execution_count": 27,
   "id": "bb138f7e",
   "metadata": {},
   "outputs": [],
   "source": [
    "import speech_recognition as sr\n",
    "from openai import OpenAI #Only for testing purposes\n",
    "import os\n",
    "import openai\n",
    "from dotenv import load_dotenv, find_dotenv\n",
    "from playsound import playsound"
   ]
  },
  {
   "cell_type": "markdown",
   "id": "7229c98b",
   "metadata": {},
   "source": [
    "### Fetching the API Key and selecting the LLM Model"
   ]
  },
  {
   "cell_type": "code",
   "execution_count": 28,
   "id": "6a02a86e",
   "metadata": {},
   "outputs": [],
   "source": [
    "# Load environment variables from .env file\n",
    "_ = load_dotenv(find_dotenv())\n",
    "\n",
    "# Get OpenAI API key from environment variables\n",
    "openai_api_key = os.getenv('OPENAI_API_KEY')\n",
    "if not openai_api_key:\n",
    "    raise ValueError(\"OpenAI API key is not set. Please set the 'OPENAI_API_KEY' environment variable in your .env file.\")\n",
    "\n",
    "# Account for deprecation of LLM model\n",
    "import datetime\n",
    "# Get the current date\n",
    "current_date = datetime.datetime.now().date()\n",
    "\n",
    "# Define the date after which the model should be set to \"gpt-3.5-turbo\"\n",
    "target_date = datetime.date(2024, 6, 12)\n",
    "\n",
    "# Set the model variable based on the current date\n",
    "if current_date > target_date:\n",
    "    llm_model = \"gpt-3.5-turbo\"\n",
    "else:\n",
    "    llm_model = \"gpt-3.5-turbo-0301\"\n"
   ]
  },
  {
   "cell_type": "markdown",
   "id": "d31fadae",
   "metadata": {},
   "source": [
    "### Main Code Cell\n",
    "#### Speech to Text using `PocketSphinx`\n",
    "#### GPT Model: `gpt-3.5-turbo`"
   ]
  },
  {
   "cell_type": "code",
   "execution_count": 51,
   "id": "cf184a02",
   "metadata": {},
   "outputs": [
    {
     "name": "stdout",
     "output_type": "stream",
     "text": [
      "Adjusting for ambience...\n",
      "Listening...\n",
      "Recognizing...\n",
      "Recognized Prompt: where was might last week\n"
     ]
    },
    {
     "name": "stderr",
     "output_type": "stream",
     "text": [
      "/var/folders/zb/2519d8rs78v6ckcybj75fnl80000gp/T/ipykernel_1762/3638583481.py:58: DeprecationWarning: Due to a bug, this method doesn't actually stream the response content, `.with_streaming_response.method()` should be used instead\n",
      "  response.stream_to_file(file_path)\n"
     ]
    }
   ],
   "source": [
    "recognizer = sr.Recognizer()\n",
    "\n",
    "def get_API():\n",
    "    # Load environment variables from .env file\n",
    "    _ = load_dotenv(find_dotenv())\n",
    "\n",
    "    # Get OpenAI API key from environment variables\n",
    "    openai_api_key = os.getenv('OPENAI_API_KEY')\n",
    "    if not openai_api_key:\n",
    "        raise ValueError(\"OpenAI API key is not set. Please set the 'OPENAI_API_KEY' environment variable in your .env file.\")\n",
    "    return openai_api_key\n",
    "\n",
    "def get_Model():\n",
    "    # Get the current date\n",
    "    current_date = datetime.datetime.now().date()\n",
    "\n",
    "    # Define the date after which the model should be set to \"gpt-3.5-turbo\"\n",
    "    target_date = datetime.date(2024, 6, 12)\n",
    "\n",
    "    # Set the model variable based on the current date\n",
    "    if current_date > target_date:\n",
    "        llm_model = \"gpt-3.5-turbo\"\n",
    "    else:\n",
    "        llm_model = \"gpt-3.5-turbo-0301\"\n",
    "    return llm_model\n",
    "\n",
    "def speech_to_text():\n",
    "    '''\n",
    "    1. Listens for speech after adjusting for surroundings\n",
    "    2. Recognizes speech and stores it as a string\n",
    "    3. Returns the string\n",
    "    '''\n",
    "    try:\n",
    "        with sr.Microphone() as source:\n",
    "            print('Adjusting for ambience...')\n",
    "            recognizer.adjust_for_ambient_noise(source, duration=1)  # Adjust based on your ambient noise\n",
    "\n",
    "            print('Listening...')\n",
    "            audio = recognizer.listen(source)  \n",
    "            \n",
    "            print('Recognizing...')\n",
    "            text = recognizer.recognize_sphinx(audio)\n",
    "        return text\n",
    "    except sr.WaitTimeoutError:\n",
    "        print(\"No speech was detected in a reasonable amount of time.\")\n",
    "        return None\n",
    "    except sr.RequestError as e:\n",
    "        print(f\"Could not request results from the recognition service; {e}\")\n",
    "        return None\n",
    "    except sr.UnknownValueError:\n",
    "        print(\"Unable to recognize any speech.\")\n",
    "        return None\n",
    "\n",
    "def send_prompt():\n",
    "    try:\n",
    "        with sr.Microphone() as source:\n",
    "            print('Adjusting for ambience...')\n",
    "            recognizer.adjust_for_ambient_noise(source, duration=1)  # Adjust based on your ambient noise\n",
    "\n",
    "            print('Listening...')\n",
    "            audio = recognizer.listen(source, 5)  \n",
    "            \n",
    "            print('Recognizing...')\n",
    "            text = recognizer.recognize_sphinx(audio)\n",
    "        return text\n",
    "    except sr.WaitTimeoutError:\n",
    "        print(\"No speech was detected in a reasonable amount of time.\")\n",
    "        return None\n",
    "    except sr.RequestError as e:\n",
    "        print(f\"Could not request results from the recognition service; {e}\")\n",
    "        return None\n",
    "    except sr.UnknownValueError:\n",
    "        print(\"Unable to recognize any speech.\")\n",
    "        return None\n",
    "    \n",
    "def text_to_speech(text):\n",
    "    response = openai.audio.speech.create(\n",
    "        model=\"tts-1\",\n",
    "        voice=\"onyx\",\n",
    "        input=text\n",
    "    )\n",
    "    file_path = 'response_voice.mp3'\n",
    "    response.stream_to_file(file_path)\n",
    "    play_audio(file_path)\n",
    "    \n",
    "def write_to_file(text):\n",
    "    '''\n",
    "    1. Write the text to a file\n",
    "    2. Returns the file path\n",
    "    '''\n",
    "    with open('text.txt','w') as file:\n",
    "        file.write(text)\n",
    "    return os.getcwd() + '/text.txt'\n",
    "\n",
    "def read_from_file(file_path):\n",
    "    with open(file_path, 'r', encoding = 'utf-8') as file:\n",
    "        text = file.read()\n",
    "    return text\n",
    "\n",
    "def play_audio(file_path):\n",
    "    playsound(file_path)\n",
    "\n",
    "def process_prompt(conversation_text):\n",
    "    intro_path = os.path.join(os.getcwd(), 'intro', 'intro_voice.mp3')\n",
    "    play_audio(intro_path)\n",
    "    prompt = send_prompt()\n",
    "    print(\"Recognized Prompt:\", prompt)  # Testing\n",
    "    if prompt:\n",
    "        response = openai.chat.completions.create(\n",
    "            model=\"gpt-3.5-turbo\",\n",
    "            messages=[\n",
    "                {\"role\": \"system\", \"content\": \"You are a memory assistant, listening to my conversations.\"},\n",
    "                {\"role\": \"user\", \"content\": conversation_text},  # Provide the conversation context\n",
    "                {\"role\": \"user\", \"content\": prompt}  # User's question\n",
    "            ]\n",
    "        )\n",
    "        \n",
    "        response_text = response.choices[0].message.content\n",
    "        text_to_speech(response_text)\n",
    "        \n",
    "api = get_API()\n",
    "model = get_Model()\n",
    "text = read_from_file('testing/test_file.txt')\n",
    "process_prompt(text)"
   ]
  },
  {
   "cell_type": "code",
   "execution_count": null,
   "id": "23b21417",
   "metadata": {},
   "outputs": [],
   "source": []
  }
 ],
 "metadata": {
  "kernelspec": {
   "display_name": "Python 3 (ipykernel)",
   "language": "python",
   "name": "python3"
  },
  "language_info": {
   "codemirror_mode": {
    "name": "ipython",
    "version": 3
   },
   "file_extension": ".py",
   "mimetype": "text/x-python",
   "name": "python",
   "nbconvert_exporter": "python",
   "pygments_lexer": "ipython3",
   "version": "3.11.5"
  }
 },
 "nbformat": 4,
 "nbformat_minor": 5
}
