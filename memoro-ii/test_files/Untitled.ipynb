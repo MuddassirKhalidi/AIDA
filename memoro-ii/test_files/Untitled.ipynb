{
 "cells": [
  {
   "cell_type": "code",
   "execution_count": 8,
   "id": "ae1ffb81",
   "metadata": {},
   "outputs": [
    {
     "name": "stdout",
     "output_type": "stream",
     "text": [
      "Requirement already satisfied: soundfile in /Users/muddassirkhalidi/anaconda3/lib/python3.11/site-packages (0.12.1)\n",
      "Requirement already satisfied: cffi>=1.0 in /Users/muddassirkhalidi/anaconda3/lib/python3.11/site-packages (from soundfile) (1.15.1)\n",
      "Requirement already satisfied: pycparser in /Users/muddassirkhalidi/anaconda3/lib/python3.11/site-packages (from cffi>=1.0->soundfile) (2.21)\n",
      "Requirement already satisfied: sounddevice in /Users/muddassirkhalidi/anaconda3/lib/python3.11/site-packages (0.4.7)\n",
      "Requirement already satisfied: CFFI>=1.0 in /Users/muddassirkhalidi/anaconda3/lib/python3.11/site-packages (from sounddevice) (1.15.1)\n",
      "Requirement already satisfied: pycparser in /Users/muddassirkhalidi/anaconda3/lib/python3.11/site-packages (from CFFI>=1.0->sounddevice) (2.21)\n"
     ]
    }
   ],
   "source": [
    "!pip install soundfile\n",
    "!pip install sounddevice"
   ]
  },
  {
   "cell_type": "code",
   "execution_count": 12,
   "id": "ce05ba52",
   "metadata": {},
   "outputs": [
    {
     "name": "stderr",
     "output_type": "stream",
     "text": [
      "2024-07-31 14:31:32.132449: I tensorflow/core/platform/cpu_feature_guard.cc:210] This TensorFlow binary is optimized to use available CPU instructions in performance-critical operations.\n",
      "To enable the following instructions: AVX2 FMA, in other operations, rebuild TensorFlow with the appropriate compiler flags.\n"
     ]
    }
   ],
   "source": [
    "import sounddevice as sd\n",
    "import soundfile as sf\n",
    "import os\n",
    "from transformers import pipeline"
   ]
  },
  {
   "cell_type": "code",
   "execution_count": 10,
   "id": "017136d8",
   "metadata": {},
   "outputs": [],
   "source": [
    "# Load the sound file\n",
    "path = os.path.join(os.getcwd(), 'audios','intro_prompt_voice.mp3')\n",
    "data, fs = sf.read(path, dtype='float32')\n",
    "\n",
    "# Play the sound file\n",
    "sd.play(data, fs)\n",
    "sd.wait()  # Wait until file is done playing\n"
   ]
  },
  {
   "cell_type": "code",
   "execution_count": 13,
   "id": "b83896a4",
   "metadata": {},
   "outputs": [],
   "source": [
    "text = 'Currently, I don’t have specific details about you, your interests, or experiences from previous conversations since I haven’t been provided with that information. However, I’m here to help, so if you share some details about yourself, I can certainly offer insights or summarize what you tell me! What would you like to share?'"
   ]
  },
  {
   "cell_type": "code",
   "execution_count": 14,
   "id": "45cd791a",
   "metadata": {},
   "outputs": [
    {
     "data": {
      "text/plain": [
       "True"
      ]
     },
     "execution_count": 14,
     "metadata": {},
     "output_type": "execute_result"
    }
   ],
   "source": [
    "classifier = pipeline(\"sentiment-analysis\", model=\"distilbert/distilbert-base-uncased-finetuned-sst-2-english\")\n",
    "\n",
    "def is_positive(text, classifier):\n",
    "    # Preprocess text if necessary\n",
    "    processed_text = text  # Assuming no specific preprocessing is required\n",
    "\n",
    "    # Use Transformers pipeline for sentiment analysis\n",
    "    result = classifier(processed_text)\n",
    "\n",
    "    # Extract the sentiment label from the result\n",
    "    sentiment_label = result[0]['label']\n",
    "    if sentiment_label == 'NEGATIVE':\n",
    "        return False\n",
    "    else:\n",
    "        return True\n",
    "is_positive(text, classifier)"
   ]
  },
  {
   "cell_type": "code",
   "execution_count": 3,
   "id": "110bdf8b",
   "metadata": {},
   "outputs": [
    {
     "name": "stdout",
     "output_type": "stream",
     "text": [
      "\n",
      "\n",
      "Timestamp: 2024-07-31 18:03:04.757550\n",
      "Answer: Answer\n",
      "--------------------------------------------------\n"
     ]
    }
   ],
   "source": [
    "from datetime import datetime\n",
    "\n",
    "prompt = f'\\n\\nTimestamp: {str(datetime.now())}\\nAnswer: Answer\\n' + '-'*50\n",
    "print(prompt)"
   ]
  },
  {
   "cell_type": "code",
   "execution_count": null,
   "id": "1eac6766",
   "metadata": {},
   "outputs": [],
   "source": []
  }
 ],
 "metadata": {
  "kernelspec": {
   "display_name": "Python 3 (ipykernel)",
   "language": "python",
   "name": "python3"
  },
  "language_info": {
   "codemirror_mode": {
    "name": "ipython",
    "version": 3
   },
   "file_extension": ".py",
   "mimetype": "text/x-python",
   "name": "python",
   "nbconvert_exporter": "python",
   "pygments_lexer": "ipython3",
   "version": "3.11.5"
  }
 },
 "nbformat": 4,
 "nbformat_minor": 5
}
