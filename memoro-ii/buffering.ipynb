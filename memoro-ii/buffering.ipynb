{
 "cells": [
  {
   "cell_type": "code",
   "execution_count": 64,
   "id": "e59d887b",
   "metadata": {},
   "outputs": [
    {
     "data": {
      "text/plain": [
       "True"
      ]
     },
     "execution_count": 64,
     "metadata": {},
     "output_type": "execute_result"
    }
   ],
   "source": [
    "import openai\n",
    "import faiss\n",
    "import numpy as np\n",
    "from dotenv import load_dotenv\n",
    "\n",
    "load_dotenv()"
   ]
  },
  {
   "cell_type": "code",
   "execution_count": 65,
   "id": "683bea08",
   "metadata": {},
   "outputs": [],
   "source": [
    "dimension = 1536  # Dimension of the OpenAI embeddings\n",
    "index = faiss.IndexFlatL2(dimension)\n",
    "embedding_metadata = []\n",
    "\n",
    "def embed_text(text):\n",
    "    response = openai.embeddings.create(\n",
    "        input=text, \n",
    "        model=\"text-embedding-ada-002\"\n",
    "    )\n",
    "    return response.data[0].embedding"
   ]
  },
  {
   "cell_type": "code",
   "execution_count": 67,
   "id": "d1df412f",
   "metadata": {},
   "outputs": [],
   "source": [
    "def update_vector_store(file_path):\n",
    "    with open(file_path, 'r') as file:\n",
    "        content = file.read()\n",
    "    \n",
    "    # Split content into smaller chunks if necessary\n",
    "    chunks = content.split('-'*20)  # Split by lines for simplicity; can use more sophisticated chunking\n",
    "    \n",
    "    for i, chunk in enumerate(chunks):\n",
    "        embedding = embed_text(chunk)\n",
    "        embedding_np = np.array(embedding).astype('float32')\n",
    "        index.add(np.array([embedding_np]))\n",
    "        embedding_metadata.append({'id': f'doc-{i}', 'text': chunk})\n",
    "\n",
    "# Update the vector store with the current text file\n",
    "update_vector_store('test.txt')"
   ]
  },
  {
   "cell_type": "code",
   "execution_count": 74,
   "id": "d97a3bbc",
   "metadata": {},
   "outputs": [
    {
     "data": {
      "text/plain": [
       "'Yes, you had a debate with someone named John about the merits of working remotely versus being in the office. You expressed concerns regarding team camaraderie and face-to-face interactions, while John highlighted the benefits of flexibility and work-life balance that remote work can offer. It seems you both had differing opinions on the topic.'"
      ]
     },
     "execution_count": 74,
     "metadata": {},
     "output_type": "execute_result"
    }
   ],
   "source": [
    "def query_vector_store(query, top_k=5):\n",
    "    query_embedding = embed_text(query)\n",
    "    query_embedding_np = np.array([query_embedding]).astype('float32')\n",
    "    distances, indices = index.search(query_embedding_np, top_k)\n",
    "    return [embedding_metadata[idx] for idx in indices[0]]\n",
    "\n",
    "def generate_response(query):\n",
    "    matches = query_vector_store(query)\n",
    "    context = \" \".join([match['text'] for match in matches])\n",
    "\n",
    "    response = openai.chat.completions.create(\n",
    "            model='gpt-4o-mini',\n",
    "            messages=[\n",
    "                {\"role\": \"system\", \"content\": \"Your name is Memoro and you are a memory assistant listening to my conversations.\"},\n",
    "                {\"role\": \"user\", \"content\": context},\n",
    "                {\"role\": \"user\", \"content\": query}\n",
    "            ]\n",
    "        )\n",
    "    return response.choices[0].message.content\n",
    "\n",
    "query = 'Did I have any arguments recently?'\n",
    "generate_response(query)\n"
   ]
  },
  {
   "cell_type": "code",
   "execution_count": null,
   "id": "f7aedb6c",
   "metadata": {},
   "outputs": [],
   "source": []
  }
 ],
 "metadata": {
  "kernelspec": {
   "display_name": "Python 3 (ipykernel)",
   "language": "python",
   "name": "python3"
  },
  "language_info": {
   "codemirror_mode": {
    "name": "ipython",
    "version": 3
   },
   "file_extension": ".py",
   "mimetype": "text/x-python",
   "name": "python",
   "nbconvert_exporter": "python",
   "pygments_lexer": "ipython3",
   "version": "3.11.5"
  }
 },
 "nbformat": 4,
 "nbformat_minor": 5
}
