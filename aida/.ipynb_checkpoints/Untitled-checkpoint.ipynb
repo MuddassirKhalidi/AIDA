{
 "cells": [
  {
   "cell_type": "code",
   "execution_count": 12,
   "id": "865189cf",
   "metadata": {},
   "outputs": [],
   "source": [
    "import openai\n",
    "import os\n",
    "from dotenv import load_dotenv\n",
    "import warnings"
   ]
  },
  {
   "cell_type": "code",
   "execution_count": 13,
   "id": "4721068c",
   "metadata": {},
   "outputs": [],
   "source": [
    "openai.api_key = \"sk-proj-dKZ4blPFxKOnhUS7iQU4T3BlbkFJQVmV6OowaQgmGhSPOUmT\"\n",
    "\n",
    "with open(os.path.join(os.getcwd(), 'audios', 'context.txt')) as file:\n",
    "    text = file.read()\n",
    "    \n",
    "response = openai.audio.speech.create(\n",
    "        model=\"tts-1\",\n",
    "        voice=\"onyx\",\n",
    "        input=text\n",
    "    )\n",
    "response_path = os.path.join(os.getcwd(), 'audios', 'intro.mp3')  # Contains the audio you hear when Memoro responds\n",
    "warnings.filterwarnings(\"ignore\", category=DeprecationWarning)\n",
    "response.stream_to_file(response_path)"
   ]
  },
  {
   "cell_type": "code",
   "execution_count": 10,
   "id": "fc88287c",
   "metadata": {},
   "outputs": [
    {
     "data": {
      "text/plain": [
       "'/Users/muddassirkhalidi/Desktop/AIDA Lab/MEMORO---II/memoro-ii/audios/intro.mp3'"
      ]
     },
     "execution_count": 10,
     "metadata": {},
     "output_type": "execute_result"
    }
   ],
   "source": [
    "os.path.join(os.getcwd(), 'audios', 'intro.mp3')"
   ]
  },
  {
   "cell_type": "code",
   "execution_count": null,
   "id": "d91a6962",
   "metadata": {},
   "outputs": [],
   "source": []
  }
 ],
 "metadata": {
  "kernelspec": {
   "display_name": "Python 3 (ipykernel)",
   "language": "python",
   "name": "python3"
  },
  "language_info": {
   "codemirror_mode": {
    "name": "ipython",
    "version": 3
   },
   "file_extension": ".py",
   "mimetype": "text/x-python",
   "name": "python",
   "nbconvert_exporter": "python",
   "pygments_lexer": "ipython3",
   "version": "3.11.5"
  }
 },
 "nbformat": 4,
 "nbformat_minor": 5
}
