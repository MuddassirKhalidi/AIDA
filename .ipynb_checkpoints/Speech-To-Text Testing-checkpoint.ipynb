{
 "cells": [
  {
   "cell_type": "code",
   "execution_count": 4,
   "id": "aa9b0764",
   "metadata": {},
   "outputs": [
    {
     "ename": "UnboundLocalError",
     "evalue": "cannot access local variable 'sr' where it is not associated with a value",
     "output_type": "error",
     "traceback": [
      "\u001b[0;31m---------------------------------------------------------------------------\u001b[0m",
      "\u001b[0;31mUnboundLocalError\u001b[0m                         Traceback (most recent call last)",
      "Cell \u001b[0;32mIn[4], line 47\u001b[0m\n\u001b[1;32m     43\u001b[0m         \u001b[38;5;28mprint\u001b[39m(\u001b[38;5;124m\"\u001b[39m\u001b[38;5;130;01m\\n\u001b[39;00m\u001b[38;5;124mRecording stopped due to silence.\u001b[39m\u001b[38;5;124m\"\u001b[39m)\n\u001b[1;32m     45\u001b[0m     \u001b[38;5;28;01mreturn\u001b[39;00m sd\u001b[38;5;241m.\u001b[39mrec(\u001b[38;5;28mint\u001b[39m(timeout \u001b[38;5;241m*\u001b[39m sr), samplerate\u001b[38;5;241m=\u001b[39msr, channels\u001b[38;5;241m=\u001b[39m\u001b[38;5;241m1\u001b[39m, dtype\u001b[38;5;241m=\u001b[39mdtype, blocking\u001b[38;5;241m=\u001b[39m\u001b[38;5;28;01mTrue\u001b[39;00m)\n\u001b[0;32m---> 47\u001b[0m audio_data \u001b[38;5;241m=\u001b[39m record_audio()\n",
      "Cell \u001b[0;32mIn[4], line 32\u001b[0m, in \u001b[0;36mrecord_audio\u001b[0;34m(threshold, timeout)\u001b[0m\n\u001b[1;32m     30\u001b[0m \u001b[38;5;66;03m# Variables to detect prolonged silence\u001b[39;00m\n\u001b[1;32m     31\u001b[0m silent_frames \u001b[38;5;241m=\u001b[39m \u001b[38;5;241m0\u001b[39m\n\u001b[0;32m---> 32\u001b[0m max_silent_blocks \u001b[38;5;241m=\u001b[39m \u001b[38;5;28mint\u001b[39m(timeout \u001b[38;5;241m*\u001b[39m sr \u001b[38;5;241m/\u001b[39m\u001b[38;5;241m/\u001b[39m blocksize)\n\u001b[1;32m     34\u001b[0m \u001b[38;5;66;03m# Audio recording parameters\u001b[39;00m\n\u001b[1;32m     35\u001b[0m sr \u001b[38;5;241m=\u001b[39m \u001b[38;5;241m16000\u001b[39m  \u001b[38;5;66;03m# Sample rate\u001b[39;00m\n",
      "\u001b[0;31mUnboundLocalError\u001b[0m: cannot access local variable 'sr' where it is not associated with a value"
     ]
    }
   ],
   "source": [
    "import sounddevice as sd\n",
    "import numpy as np\n",
    "import time\n",
    "\n",
    "def record_audio(threshold=0.01, timeout=3):\n",
    "    \"\"\"\n",
    "    Record audio from the microphone until silence is detected.\n",
    "\n",
    "    Args:\n",
    "    threshold (float): The amplitude below which is considered silence.\n",
    "    timeout (float): The time (seconds) after which recording stops if silence continues.\n",
    "\n",
    "    Returns:\n",
    "    numpy.ndarray: The recorded audio data as a NumPy array.\n",
    "    \"\"\"\n",
    "    def callback(indata, frames, time, status):\n",
    "        \"\"\"This is called (from a separate thread) for each audio block.\"\"\"\n",
    "        if status:\n",
    "            print(status, file=sys.stderr)\n",
    "        volume_norm = np.linalg.norm(indata) * 10\n",
    "        print(f\"Volume: {volume_norm}\", end='\\r')\n",
    "        \n",
    "        # Detect silence\n",
    "        if volume_norm < threshold:\n",
    "            nonlocal silent_frames\n",
    "            silent_frames += 1\n",
    "        else:\n",
    "            silent_frames = 0\n",
    "\n",
    "    # Audio recording parameters\n",
    "    sr = 16000  # Sample rate\n",
    "    blocksize = 1024  # Block size\n",
    "    dtype = 'float32'  # Data type for recording\n",
    "    \n",
    "    # Variables to detect prolonged silence\n",
    "    silent_frames = 0\n",
    "    max_silent_blocks = int(timeout * sr // blocksize)\n",
    "\n",
    "    \n",
    "\n",
    "    with sd.InputStream(callback=callback, samplerate=sr, blocksize=blocksize, dtype=dtype, channels=1):\n",
    "        print(\"Recording...\")\n",
    "        while silent_frames < max_silent_blocks:\n",
    "            sd.sleep(int(blocksize / sr * 1000))\n",
    "        print(\"\\nRecording stopped due to silence.\")\n",
    "\n",
    "    return sd.rec(int(timeout * sr), samplerate=sr, channels=1, dtype=dtype, blocking=True)\n",
    "\n",
    "audio_data = record_audio()\n"
   ]
  },
  {
   "cell_type": "code",
   "execution_count": 2,
   "id": "bdae329f",
   "metadata": {},
   "outputs": [
    {
     "name": "stdout",
     "output_type": "stream",
     "text": [
      "Collecting sounddevice\n",
      "  Obtaining dependency information for sounddevice from https://files.pythonhosted.org/packages/1c/9c/d8de668a462b7a326d9f697dfa2adb6fbde07cc468cc7cdcf51cbe975d56/sounddevice-0.4.7-py3-none-macosx_10_6_x86_64.macosx_10_6_universal2.whl.metadata\n",
      "  Using cached sounddevice-0.4.7-py3-none-macosx_10_6_x86_64.macosx_10_6_universal2.whl.metadata (1.4 kB)\n",
      "Requirement already satisfied: CFFI>=1.0 in /Users/muddassirkhalidi/anaconda3/lib/python3.11/site-packages (from sounddevice) (1.15.1)\n",
      "Requirement already satisfied: pycparser in /Users/muddassirkhalidi/anaconda3/lib/python3.11/site-packages (from CFFI>=1.0->sounddevice) (2.21)\n",
      "Downloading sounddevice-0.4.7-py3-none-macosx_10_6_x86_64.macosx_10_6_universal2.whl (108 kB)\n",
      "\u001b[2K   \u001b[90m━━━━━━━━━━━━━━━━━━━━━━━━━━━━━━━━━━━━━━━\u001b[0m \u001b[32m108.4/108.4 kB\u001b[0m \u001b[31m324.2 kB/s\u001b[0m eta \u001b[36m0:00:00\u001b[0ma \u001b[36m0:00:01\u001b[0m\n",
      "\u001b[?25hInstalling collected packages: sounddevice\n",
      "Successfully installed sounddevice-0.4.7\n",
      "Note: you may need to restart the kernel to use updated packages.\n"
     ]
    }
   ],
   "source": [
    "pip install sounddevice"
   ]
  },
  {
   "cell_type": "code",
   "execution_count": null,
   "id": "947d395f",
   "metadata": {},
   "outputs": [],
   "source": []
  }
 ],
 "metadata": {
  "kernelspec": {
   "display_name": "Python 3 (ipykernel)",
   "language": "python",
   "name": "python3"
  },
  "language_info": {
   "codemirror_mode": {
    "name": "ipython",
    "version": 3
   },
   "file_extension": ".py",
   "mimetype": "text/x-python",
   "name": "python",
   "nbconvert_exporter": "python",
   "pygments_lexer": "ipython3",
   "version": "3.11.5"
  }
 },
 "nbformat": 4,
 "nbformat_minor": 5
}
