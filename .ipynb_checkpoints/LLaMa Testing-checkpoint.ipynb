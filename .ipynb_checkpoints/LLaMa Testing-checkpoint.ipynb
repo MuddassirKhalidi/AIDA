{
 "cells": [
  {
   "cell_type": "code",
   "execution_count": 3,
   "id": "c9557459-f7b7-40d7-b36f-c5aa2c155c2b",
   "metadata": {},
   "outputs": [],
   "source": [
    "# pip install llama-index "
   ]
  },
  {
   "cell_type": "code",
   "execution_count": 4,
   "id": "c1db147d-c401-4339-bede-b82eca3b61ab",
   "metadata": {},
   "outputs": [],
   "source": [
    "# pip install llama-index\n"
   ]
  },
  {
   "cell_type": "code",
   "execution_count": 5,
   "id": "3a532e7f-2d81-4743-94b7-ae9f1cd40372",
   "metadata": {},
   "outputs": [],
   "source": [
    "# pip install llama-index --upgrade\n"
   ]
  },
  {
   "cell_type": "code",
   "execution_count": 6,
   "id": "baf25b9d-c2fb-43b4-befc-d8a17c6969a4",
   "metadata": {},
   "outputs": [],
   "source": [
    "# pip install --upgrade llama-index\n"
   ]
  },
  {
   "cell_type": "code",
   "execution_count": 7,
   "id": "fd8d5e77-4162-4900-aad6-5cf5bccce403",
   "metadata": {},
   "outputs": [],
   "source": [
    "# pip install llama-index-llms-huggingface\n"
   ]
  },
  {
   "cell_type": "code",
   "execution_count": 1,
   "id": "80d98ca3-11ad-464f-a4a4-777066c6f492",
   "metadata": {},
   "outputs": [],
   "source": [
    "import logging\n",
    "import sys\n",
    "import os\n",
    "import openai\n",
    "\n",
    "logging.basicConfig(stream=sys.stdout, level=logging.INFO)\n",
    "logging.getLogger().addHandler(logging.StreamHandler(stream=sys.stdout))\n",
    "\n",
    "from llama_index.core import VectorStoreIndex, SimpleDirectoryReader, GPTVectorStoreIndex\n",
    "\n",
    "openai.api_key = 'sk-proj-TXMq23JXNxenxvRke54GT3BlbkFJ5s9sXurRunFC3o2ootxy'\n",
    "directory_path = 'embadding'\n",
    "file_path = 'embadding/aa.txt'\n",
    "\n",
    "if not os.path.isdir(directory_path):\n",
    "    os.makedirs(directory_path)\n",
    "\n",
    "# Verify the file path and existence\n",
    "if not os.path.isfile(file_path):\n",
    "    raise FileNotFoundError(f\"The file {file_path} does not exist. Please check the path and try again.\")\n",
    "\n",
    "# Use SimpleDirectoryReader to load data from the directory\n",
    "documents = SimpleDirectoryReader(input_dir=directory_path).load_data()\n",
    "\n",
    "# Assuming further processing with GPTVectorStoreIndex\n",
    "index = GPTVectorStoreIndex(nodes=documents)  # Pass 'documents' as nodes\n",
    "\n",
    "# Print the loaded documents (for verification)\n",
    "for doc in documents:\n",
    "    print(doc)\n"
   ]
  },
  {
   "cell_type": "code",
   "execution_count": null,
   "id": "79ecff70",
   "metadata": {},
   "outputs": [],
   "source": [
    "index=VectorStoreIndex.from_documents(documents,show_progress=True)\n",
    "#convert to index"
   ]
  },
  {
   "cell_type": "code",
   "execution_count": null,
   "id": "19631ba2",
   "metadata": {},
   "outputs": [],
   "source": [
    "query_engine=index.as_query_engine() "
   ]
  },
  {
   "cell_type": "code",
   "execution_count": null,
   "id": "33253749",
   "metadata": {},
   "outputs": [],
   "source": [
    "response=query_engine.query(\"who help me study cs330\")\n",
    "print(response)"
   ]
  }
 ],
 "metadata": {
  "kernelspec": {
   "display_name": "Python 3 (ipykernel)",
   "language": "python",
   "name": "python3"
  },
  "language_info": {
   "codemirror_mode": {
    "name": "ipython",
    "version": 3
   },
   "file_extension": ".py",
   "mimetype": "text/x-python",
   "name": "python",
   "nbconvert_exporter": "python",
   "pygments_lexer": "ipython3",
   "version": "3.11.5"
  }
 },
 "nbformat": 4,
 "nbformat_minor": 5
}
