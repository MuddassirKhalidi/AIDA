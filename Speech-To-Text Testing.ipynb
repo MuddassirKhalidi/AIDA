{
 "cells": [
  {
   "cell_type": "markdown",
   "id": "87880c0e",
   "metadata": {},
   "source": [
    "### Use this cell to make installations"
   ]
  },
  {
   "cell_type": "code",
   "execution_count": 4,
   "id": "7ea66d66",
   "metadata": {},
   "outputs": [],
   "source": [
    "pip install pocketsphinx"
   ]
  },
  {
   "cell_type": "markdown",
   "id": "04c6dd29",
   "metadata": {},
   "source": [
    "### Use this cell to import any libraries"
   ]
  },
  {
   "cell_type": "code",
   "execution_count": 13,
   "id": "bb138f7e",
   "metadata": {},
   "outputs": [],
   "source": [
    "import speech_recognition as sr\n",
    "\n",
    "from openai import OpenAI #Only for testing purposes\n",
    "import os\n",
    "import openai\n",
    "from dotenv import load_dotenv, find_dotenv\n",
    "import time"
   ]
  },
  {
   "cell_type": "markdown",
   "id": "58c4c9d7",
   "metadata": {},
   "source": [
    "### Converting text to speech using TTS from OpenAI"
   ]
  },
  {
   "cell_type": "code",
   "execution_count": 19,
   "id": "afc247e2",
   "metadata": {},
   "outputs": [
    {
     "name": "stdout",
     "output_type": "stream",
     "text": [
      "Adjusting for ambience...\n",
      "Listening...\n",
      "Recognizing...\n",
      "Recognized\n",
      "hey are you feeling today\n",
      "Something printed\n"
     ]
    }
   ],
   "source": [
    "_ = load_dotenv(find_dotenv()) # read local .env file\n",
    "openai.api_key = os.environ['OPENAI_API_KEY']\n",
    "\n",
    "client = OpenAI()\n",
    "\n",
    "with open('test_file.txt') as file:\n",
    "    text = file.read()\n",
    "    \n",
    "response = client.audio.speech.create(\n",
    "    model = \"tts-1\",\n",
    "    voice = \"alloy\",\n",
    "    input = text,\n",
    ")\n",
    "\n",
    "response.stream_to_file(\"test_speech.mp3\")"
   ]
  },
  {
   "cell_type": "markdown",
   "id": "50624918",
   "metadata": {},
   "source": [
    "### Converting Speech to Text using `google`"
   ]
  },
  {
   "cell_type": "code",
   "execution_count": 7,
   "id": "3f17af1b",
   "metadata": {},
   "outputs": [
    {
     "name": "stderr",
     "output_type": "stream",
     "text": [
      "/var/folders/zb/2519d8rs78v6ckcybj75fnl80000gp/T/ipykernel_1326/3712233357.py:20: DeprecationWarning: Due to a bug, this method doesn't actually stream the response content, `.with_streaming_response.method()` should be used instead\n",
      "  response.stream_to_file(\"test_speech.mp3\")\n"
     ]
    }
   ],
   "source": [
    "recognizer = sr.Recognizer()\n",
    "\n",
    "#Implementation using google\n",
    "def speech_to_text():\n",
    "    try:\n",
    "        with sr.Microphone() as source:\n",
    "            print('Adjusting for ambience...')\n",
    "            recognizer.adjust_for_ambient_noise(source)\n",
    "            \n",
    "            print('Listening...')\n",
    "            audio = recognizer.listen(source, phrase_time_limit = 180)\n",
    "            \n",
    "            print('Recognizing...')\n",
    "            text = recognizer.recognize_google(audio)\n",
    "            print('Recognized')\n",
    "            print(text)\n",
    "            print('Something printed')\n",
    "    except sr.RequestError as e:\n",
    "        print(e)\n",
    "    except sr.UnknownValueError as e:\n",
    "            print(e)\n",
    "\n",
    "speech_to_text()      "
   ]
  },
  {
   "cell_type": "markdown",
   "id": "d31fadae",
   "metadata": {},
   "source": [
    "### Converting Speech to Text using `PocketSphinx`"
   ]
  },
  {
   "cell_type": "code",
   "execution_count": 15,
   "id": "cf184a02",
   "metadata": {},
   "outputs": [
    {
     "name": "stdout",
     "output_type": "stream",
     "text": [
      "Adjusting for ambience...\n",
      "Listening...\n",
      "Recognizing...\n",
      "Recognized Text: hey be free to catch up later today yeah i think so what time were you thinking maybe around five i just have a couple of things to finish up before than five works for me when he wanted me what about that new coffee shop on main street heard a great pastries sounds good to me i've been wanting to try the cappuccino things that will sell housework been all you know this is always were in the middle of the project right now lots of late nights that sounds intense what's the project about it's a new app were developing for managing team tasks it's supposed to help streamline to mediation project management that sounds really useful thing i can dazzle you something like that and my job done yeah we're hoping it'll make a big difference what about you how's everything going for it is in pretty good actually which is turning new rules i'm still getting used to everything that's exciting what's the new role of the canal enlarging courtney in her out on our responsibility as i am enjoying it so we're congratulate so at and step the banks it's been a bit overwhelming but i'm learning a lot that's great here do you have any big projects coming up we're working on a new campaign to follow and lots of planning and strategizing right now are sounds and the guy your hands full definitely and i like staying busy yeah and it keeps things interesting by the way did you share but sarah's promotion now i didn't that's awesome what's her new position she's now the head of the sales department wow that's amazing she's been working so hard and totally deserted i know right we should all go out celebrates the absolute really all texture and see when she's free good idea so have you been watching him to joe's lately yeah i just i watch a menu crime drama everyone's been talking about oh i've heard about that is any good that it's really gripping i couldn't stop watching the plot twists are crazy i might have to check it out and i've been looking for something new to watch definitely do it's one of those shows that keeps you on the edge of your seen awesome my love shows like that what's it called again it's called the silent witness got an all out it's my last thanks for the recommendation no problem so have you had a chance to catch up with anyone else from our old team i actually saw mike last week he's doing well just got back from vacation in hawaii oh that's nice to have always wanted to go to hawaii how was his trap he said it was amazing lots of relaxing on the beach exploring the island's sounds like a dream action plan a trip there sometime the totally shed some light but at least two we should all go together you would be so much find that would be awesome we should seriously think about it definitely let's bring it up only meet sarah good idea so have you picked up any new hobbies lately i've been getting into baking recently it's been a lot of fun trying out new recipes that sounds like ingrained weighed in on wind and one of you being so far mostly cookies and cakes and still learning but it's really satisfying win something turns out well i guess i've been wanting to try taking more to maybe you can give me some tips i'd love to which it haven't eighteen days some time that sounds like a blast let's do it for sure anyway which probably get back to work see a five yeah see then can wake me neither see you later on on an sound the one wound in the month and you know what did\n"
     ]
    }
   ],
   "source": [
    "recognizer = sr.Recognizer()\n",
    "\n",
    "#Implementation using PocketSphinx\n",
    "import speech_recognition as sr\n",
    "\n",
    "recognizer = sr.Recognizer()\n",
    "\n",
    "def speech_to_text():\n",
    "    try:\n",
    "        with sr.Microphone() as source:\n",
    "            print('Adjusting for ambience...')\n",
    "            recognizer.adjust_for_ambient_noise(source, duration=1)  # Adjust based on your ambient noise\n",
    "\n",
    "            print('Listening...')\n",
    "            audio = recognizer.listen(source)  # Wait for 5 seconds for the user to speak\n",
    "            \n",
    "            print('Recognizing...')\n",
    "            text = recognizer.recognize_sphinx(audio)\n",
    "            print(f\"Recognized Text: {text}\")\n",
    "    except sr.WaitTimeoutError:\n",
    "        print(\"No speech was detected in a reasonable amount of time.\")\n",
    "    except sr.RequestError as e:\n",
    "        print(f\"Could not request results from the recognition service; {e}\")\n",
    "    except sr.UnknownValueError:\n",
    "        print(\"Unable to recognize any speech.\")\n",
    "\n",
    "speech_to_text()"
   ]
  },
  {
   "cell_type": "markdown",
   "id": "bc2a39b7",
   "metadata": {},
   "source": [
    "### Converting Speech to Text using `IBM Watson`"
   ]
  },
  {
   "cell_type": "code",
   "execution_count": 20,
   "id": "f8989ab8",
   "metadata": {},
   "outputs": [
    {
     "name": "stdout",
     "output_type": "stream",
     "text": [
      "Adjusting for ambience...\n",
      "Listening...\n",
      "Recognizing...\n"
     ]
    },
    {
     "ename": "TypeError",
     "evalue": "Recognizer.recognize_ibm() missing 1 required positional argument: 'key'",
     "output_type": "error",
     "traceback": [
      "\u001b[0;31m---------------------------------------------------------------------------\u001b[0m",
      "\u001b[0;31mTypeError\u001b[0m                                 Traceback (most recent call last)",
      "Cell \u001b[0;32mIn[20], line 27\u001b[0m\n\u001b[1;32m     24\u001b[0m     \u001b[38;5;28;01mexcept\u001b[39;00m sr\u001b[38;5;241m.\u001b[39mUnknownValueError:\n\u001b[1;32m     25\u001b[0m         \u001b[38;5;28mprint\u001b[39m(\u001b[38;5;124m\"\u001b[39m\u001b[38;5;124mUnable to recognize any speech.\u001b[39m\u001b[38;5;124m\"\u001b[39m)\n\u001b[0;32m---> 27\u001b[0m speech_to_text()\n",
      "Cell \u001b[0;32mIn[20], line 18\u001b[0m, in \u001b[0;36mspeech_to_text\u001b[0;34m()\u001b[0m\n\u001b[1;32m     15\u001b[0m         audio \u001b[38;5;241m=\u001b[39m recognizer\u001b[38;5;241m.\u001b[39mlisten(source)  \u001b[38;5;66;03m# Wait for 5 seconds for the user to speak\u001b[39;00m\n\u001b[1;32m     17\u001b[0m         \u001b[38;5;28mprint\u001b[39m(\u001b[38;5;124m'\u001b[39m\u001b[38;5;124mRecognizing...\u001b[39m\u001b[38;5;124m'\u001b[39m)\n\u001b[0;32m---> 18\u001b[0m         text \u001b[38;5;241m=\u001b[39m recognizer\u001b[38;5;241m.\u001b[39mrecognize_ibm(audio)\n\u001b[1;32m     19\u001b[0m         \u001b[38;5;28mprint\u001b[39m(\u001b[38;5;124mf\u001b[39m\u001b[38;5;124m\"\u001b[39m\u001b[38;5;124mRecognized Text: \u001b[39m\u001b[38;5;132;01m{\u001b[39;00mtext\u001b[38;5;132;01m}\u001b[39;00m\u001b[38;5;124m\"\u001b[39m)\n\u001b[1;32m     20\u001b[0m \u001b[38;5;28;01mexcept\u001b[39;00m sr\u001b[38;5;241m.\u001b[39mWaitTimeoutError:\n",
      "\u001b[0;31mTypeError\u001b[0m: Recognizer.recognize_ibm() missing 1 required positional argument: 'key'"
     ]
    }
   ],
   "source": [
    "recognizer = sr.Recognizer()\n",
    "\n",
    "#Implementation using PocketSphinx\n",
    "import speech_recognition as sr\n",
    "\n",
    "recognizer = sr.Recognizer()\n",
    "\n",
    "def speech_to_text():\n",
    "    try:\n",
    "        with sr.Microphone() as source:\n",
    "            print('Adjusting for ambience...')\n",
    "            recognizer.adjust_for_ambient_noise(source, duration=1)  # Adjust based on your ambient noise\n",
    "\n",
    "            print('Listening...')\n",
    "            audio = recognizer.listen(source)  # Wait for 5 seconds for the user to speak\n",
    "            \n",
    "            print('Recognizing...')\n",
    "            text = recognizer.recognize_ibm(audio)\n",
    "            print(f\"Recognized Text: {text}\")\n",
    "    except sr.WaitTimeoutError:\n",
    "        print(\"No speech was detected in a reasonable amount of time.\")\n",
    "    except sr.RequestError as e:\n",
    "        print(f\"Could not request results from the recognition service; {e}\")\n",
    "    except sr.UnknownValueError:\n",
    "        print(\"Unable to recognize any speech.\")\n",
    "\n",
    "speech_to_text()"
   ]
  },
  {
   "cell_type": "code",
   "execution_count": null,
   "id": "c33065aa",
   "metadata": {},
   "outputs": [],
   "source": []
  }
 ],
 "metadata": {
  "kernelspec": {
   "display_name": "Python 3 (ipykernel)",
   "language": "python",
   "name": "python3"
  },
  "language_info": {
   "codemirror_mode": {
    "name": "ipython",
    "version": 3
   },
   "file_extension": ".py",
   "mimetype": "text/x-python",
   "name": "python",
   "nbconvert_exporter": "python",
   "pygments_lexer": "ipython3",
   "version": "3.11.5"
  }
 },
 "nbformat": 4,
 "nbformat_minor": 5
}
