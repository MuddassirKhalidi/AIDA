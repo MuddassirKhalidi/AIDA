{
 "cells": [
  {
   "cell_type": "code",
   "execution_count": 1,
   "id": "d7878800",
   "metadata": {},
   "outputs": [],
   "source": [
    "import pyaudio\n",
    "import wave\n",
    "import numpy as np\n",
    "import os\n",
    "import time\n",
    "\n",
    "class AudioRecorder:\n",
    "    def __init__(self, chunk_size=1024, format=pyaudio.paInt16, channels=1, rate=16000, silence_threshold=1000, silence_duration=5):\n",
    "        self.chunk_size = chunk_size\n",
    "        self.format = format\n",
    "        self.channels = channels\n",
    "        self.rate = rate\n",
    "        self.silence_threshold = silence_threshold\n",
    "        self.silence_duration = silence_duration\n",
    "        self.audio_frames = []\n",
    "        self.silent_chunks = 0\n",
    "        self.max_silent_chunks = int(rate / chunk_size * silence_duration)\n",
    "        self.recording = False\n",
    "        self.stream = None\n",
    "        self.p = pyaudio.PyAudio()\n",
    "\n",
    "    def is_silent(self, data):\n",
    "        max_amplitude = np.max(np.abs(data))\n",
    "        return max_amplitude < self.silence_threshold\n",
    "\n",
    "    def callback(self, in_data, frame_count, time_info, status):\n",
    "        if not self.recording:\n",
    "            return (None, pyaudio.paComplete)\n",
    "        self.audio_frames.append(in_data)\n",
    "        audio_data = np.frombuffer(in_data, dtype=np.int16)\n",
    "        if self.is_silent(audio_data):\n",
    "            self.silent_chunks += 1\n",
    "        else:\n",
    "            self.silent_chunks = 0\n",
    "        if self.silent_chunks > self.max_silent_chunks:\n",
    "            return (None, pyaudio.paComplete)\n",
    "        return (in_data, pyaudio.paContinue)\n",
    "\n",
    "    def start_recording(self):\n",
    "        self.recording = True\n",
    "        self.audio_frames = []\n",
    "        self.silent_chunks = 0\n",
    "        self.stream = self.p.open(format=self.format,\n",
    "                                  channels=self.channels,\n",
    "                                  rate=self.rate,\n",
    "                                  input=True,\n",
    "                                  frames_per_buffer=self.chunk_size,\n",
    "                                  stream_callback=self.callback)\n",
    "        print(\"Recording started...\")\n",
    "        self.stream.start_stream()\n",
    "\n",
    "    def get_recorded_audio(self):\n",
    "        output_filename = os.path.join('memoro-ii','audios','recorded_speech.wav')\n",
    "        try:\n",
    "            with wave.open(output_filename, 'wb') as wf:\n",
    "                wf.setnchannels(self.channels)\n",
    "                wf.setsampwidth(self.p.get_sample_size(self.format))\n",
    "                wf.setframerate(self.rate)\n",
    "                wf.writeframes(b''.join(self.audio_frames))\n",
    "        except Exception as e:\n",
    "            print(f\"Failed to save audio file: {e}\")\n",
    "\n",
    "    def stop_recording(self):\n",
    "        self.recording = False\n",
    "        self.stream.stop_stream()\n",
    "        self.stream.close()\n",
    "        self.get_recorded_audio()\n",
    "        print(\"Recording stopped.\")"
   ]
  },
  {
   "cell_type": "code",
   "execution_count": 2,
   "id": "7ff31813",
   "metadata": {},
   "outputs": [
    {
     "name": "stdout",
     "output_type": "stream",
     "text": [
      "Recording started...\n"
     ]
    }
   ],
   "source": [
    "recorder = AudioRecorder()\n",
    "recorder.start_recording()"
   ]
  },
  {
   "cell_type": "code",
   "execution_count": 3,
   "id": "ab3a2945",
   "metadata": {},
   "outputs": [
    {
     "name": "stdout",
     "output_type": "stream",
     "text": [
      "Recording stopped.\n"
     ]
    }
   ],
   "source": [
    "recorder.stop_recording()"
   ]
  },
  {
   "cell_type": "code",
   "execution_count": null,
   "id": "0bb0e606",
   "metadata": {},
   "outputs": [],
   "source": []
  }
 ],
 "metadata": {
  "kernelspec": {
   "display_name": "Python 3 (ipykernel)",
   "language": "python",
   "name": "python3"
  },
  "language_info": {
   "codemirror_mode": {
    "name": "ipython",
    "version": 3
   },
   "file_extension": ".py",
   "mimetype": "text/x-python",
   "name": "python",
   "nbconvert_exporter": "python",
   "pygments_lexer": "ipython3",
   "version": "3.11.5"
  }
 },
 "nbformat": 4,
 "nbformat_minor": 5
}
